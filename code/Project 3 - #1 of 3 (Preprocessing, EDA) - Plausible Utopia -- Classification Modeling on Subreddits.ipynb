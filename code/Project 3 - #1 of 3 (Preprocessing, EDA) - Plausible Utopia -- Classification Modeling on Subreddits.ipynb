{
 "cells": [
  {
   "cell_type": "markdown",
   "metadata": {},
   "source": [
    "### Project 3: Plausible Utopia \n",
    "\n",
    "### Classification Modeling on Subreddits to Classify Futurists vs. Scientists\n",
    "\n",
    "### Notebook 1 of 3: Preprocessing, EDA "
   ]
  },
  {
   "cell_type": "markdown",
   "metadata": {},
   "source": [
    "### Problem statement\n",
    "\n",
    "Enthralled as I am with the future, high-flying visions of art merging with technology that bring about utopia seem  ungrounded and unscientific.\n",
    "\n",
    "Using classification models on datasets collected from the [`futurology`](https://www.reddit.com/r/Futurology) and [`science`](https://www.reddit.com/r/Science) subreddits, I'd like to answer some of the below questions (where possible):\n",
    "\n",
    "* Are the futurist and scientist communities mutually exclusive? \n",
    "\n",
    "* What is the nature of the discussions amongst the scientist community?\n",
    "\n",
    "* What is the nature of the discussions amongst the futurist community?\n",
    "\n",
    "* Where is there topical crossover between these discussions, if any? \n",
    "\n",
    "* Does the topical crossover support any of the visions of the future held and propagated by futurists, such as:\n",
    "  \n",
    "     * Mind uploading, digital heaven, etc.\n",
    "     * Reverse-aging, insect-based diets, colonization of other planets, etc.\n",
    "\n",
    "* Furthermore, are solutions being discussed to the disaster-visions of futurists, such as:\n",
    "    * Food and water shortages\n",
    "    * Environmental disasters\n",
    "\n"
   ]
  },
  {
   "cell_type": "markdown",
   "metadata": {},
   "source": [
    "#### Libary imports"
   ]
  },
  {
   "cell_type": "code",
   "execution_count": 672,
   "metadata": {},
   "outputs": [],
   "source": [
    "import os\n",
    "import pandas as pd\n",
    "import numpy as np\n",
    "import matplotlib.pyplot as plt\n",
    "import seaborn as sns\n",
    "import missingno as msno\n",
    "\n",
    "from sklearn.linear_model import LinearRegression, LassoCV, RidgeCV, LogisticRegression\n",
    "from sklearn.model_selection import train_test_split, cross_val_score, GridSearchCV\n",
    "from sklearn.preprocessing import StandardScaler, PolynomialFeatures\n",
    "from sklearn.neighbors import KNeighborsClassifier\n",
    "from sklearn.pipeline import Pipeline\n",
    "from sklearn import metrics\n",
    "import statsmodels.api as sm\n",
    "from sklearn.metrics import confusion_matrix, plot_confusion_matrix, classification_report, accuracy_score, roc_auc_score\n",
    "from sklearn.naive_bayes import MultinomialNB\n",
    "     \n",
    "from nltk.tokenize import sent_tokenize, word_tokenize, RegexpTokenizer\n",
    "from nltk.stem import WordNetLemmatizer\n",
    "from nltk.stem.porter import PorterStemmer\n",
    "from nltk.corpus import stopwords\n",
    "from nltk.sentiment.vader import SentimentIntensityAnalyzer\n",
    "import re\n",
    "from sklearn.feature_extraction.text import CountVectorizer\n",
    "import string\n",
    "\n",
    "\n",
    "import warnings; warnings.simplefilter('ignore')\n",
    "##this will hide deprecation/future warnings\n",
    "\n",
    "from IPython.display import Markdown, display\n",
    "pd.set_option('display.max_row', 200) # Set ipython's max row display\n",
    "pd.set_option('display.max_columns', 85) # Set iPython's max column count\n",
    "pd.set_option('display.max_colwidth', 1_000) # Set iPython's max column width\n",
    "\n",
    "# pseudo-markdown in code cells\n",
    "def printmd(string):\n",
    "    display(Markdown(string))\n",
    "# ref: https://discuss.analyticsvidhya.com/t/how-to-make-a-text-bold-within-print-statement-in-ipython-notebook/14552/2"
   ]
  },
  {
   "cell_type": "markdown",
   "metadata": {},
   "source": [
    "#### Data collection"
   ]
  },
  {
   "cell_type": "markdown",
   "metadata": {},
   "source": [
    "I utilized the Python Reddit API Wrapper (PRAW) API in the data collection process. You can find the steps I took in the `PRAW_data_collection` notebook, located in the code folder of this repository.\n",
    "\n",
    "The East Coast local instructors were very generous with their walkthrough of the process, so I definitely credit them for the ease of the data collection."
   ]
  },
  {
   "cell_type": "markdown",
   "metadata": {},
   "source": [
    "From the [rubric](https://git.generalassemb.ly/abishop17/project_3/blob/master/README.md):\n",
    "\n",
    ">Was data collection and storage optimized through custom functions, pipelines, and/or automation? <br><br>\n",
    ">Was thought given to the server receiving the requests such as considering number of requests per second?"
   ]
  },
  {
   "cell_type": "markdown",
   "metadata": {},
   "source": [
    "#### Preprocessing and EDA"
   ]
  },
  {
   "cell_type": "markdown",
   "metadata": {},
   "source": [
    "#### Dataset 1: \"New\" flavor, pulled from Reddit on 10/13/20"
   ]
  },
  {
   "cell_type": "code",
   "execution_count": 673,
   "metadata": {
    "scrolled": true
   },
   "outputs": [
    {
     "data": {
      "text/plain": [
       "None"
      ]
     },
     "metadata": {},
     "output_type": "display_data"
    },
    {
     "data": {
      "text/html": [
       "<div>\n",
       "<style scoped>\n",
       "    .dataframe tbody tr th:only-of-type {\n",
       "        vertical-align: middle;\n",
       "    }\n",
       "\n",
       "    .dataframe tbody tr th {\n",
       "        vertical-align: top;\n",
       "    }\n",
       "\n",
       "    .dataframe thead th {\n",
       "        text-align: right;\n",
       "    }\n",
       "</style>\n",
       "<table border=\"1\" class=\"dataframe\">\n",
       "  <thead>\n",
       "    <tr style=\"text-align: right;\">\n",
       "      <th></th>\n",
       "      <th>title</th>\n",
       "      <th>score</th>\n",
       "      <th>url</th>\n",
       "      <th>comms_num</th>\n",
       "      <th>created</th>\n",
       "      <th>body</th>\n",
       "      <th>subreddit</th>\n",
       "    </tr>\n",
       "    <tr>\n",
       "      <th>id</th>\n",
       "      <th></th>\n",
       "      <th></th>\n",
       "      <th></th>\n",
       "      <th></th>\n",
       "      <th></th>\n",
       "      <th></th>\n",
       "      <th></th>\n",
       "    </tr>\n",
       "  </thead>\n",
       "  <tbody>\n",
       "    <tr>\n",
       "      <th>japxs3</th>\n",
       "      <td>What would the point be to do anything if AI c...</td>\n",
       "      <td>0</td>\n",
       "      <td>https://www.reddit.com/r/Futurology/comments/j...</td>\n",
       "      <td>4</td>\n",
       "      <td>1.602664e+09</td>\n",
       "      <td>The more I look into AI and new projects like ...</td>\n",
       "      <td>futurology</td>\n",
       "    </tr>\n",
       "    <tr>\n",
       "      <th>japq75</th>\n",
       "      <td>ELCC Explained: the Critical Renewable Energy ...</td>\n",
       "      <td>4</td>\n",
       "      <td>https://blog.ucsusa.org/mark-specht/elcc-expla...</td>\n",
       "      <td>0</td>\n",
       "      <td>1.602663e+09</td>\n",
       "      <td>NaN</td>\n",
       "      <td>futurology</td>\n",
       "    </tr>\n",
       "    <tr>\n",
       "      <th>jaojnb</th>\n",
       "      <td>There's a 50-50 chance we're living in a simul...</td>\n",
       "      <td>8</td>\n",
       "      <td>https://boingboing.net/2020/10/13/new-research...</td>\n",
       "      <td>4</td>\n",
       "      <td>1.602659e+09</td>\n",
       "      <td>NaN</td>\n",
       "      <td>futurology</td>\n",
       "    </tr>\n",
       "    <tr>\n",
       "      <th>jaofpy</th>\n",
       "      <td>Eight nations sign NASA's Artemis Accords, ple...</td>\n",
       "      <td>3</td>\n",
       "      <td>https://www.engadget.com/nasa-artemis-accords-...</td>\n",
       "      <td>1</td>\n",
       "      <td>1.602658e+09</td>\n",
       "      <td>NaN</td>\n",
       "      <td>futurology</td>\n",
       "    </tr>\n",
       "    <tr>\n",
       "      <th>jaocqq</th>\n",
       "      <td>Mercedes benz AVTR - In Action</td>\n",
       "      <td>8</td>\n",
       "      <td>https://www.youtube.com/watch?v=ChqM3zqTREQ&amp;ab...</td>\n",
       "      <td>0</td>\n",
       "      <td>1.602658e+09</td>\n",
       "      <td>NaN</td>\n",
       "      <td>futurology</td>\n",
       "    </tr>\n",
       "  </tbody>\n",
       "</table>\n",
       "</div>"
      ],
      "text/plain": [
       "                                                    title  score  \\\n",
       "id                                                                 \n",
       "japxs3  What would the point be to do anything if AI c...      0   \n",
       "japq75  ELCC Explained: the Critical Renewable Energy ...      4   \n",
       "jaojnb  There's a 50-50 chance we're living in a simul...      8   \n",
       "jaofpy  Eight nations sign NASA's Artemis Accords, ple...      3   \n",
       "jaocqq                     Mercedes benz AVTR - In Action      8   \n",
       "\n",
       "                                                      url  comms_num  \\\n",
       "id                                                                     \n",
       "japxs3  https://www.reddit.com/r/Futurology/comments/j...          4   \n",
       "japq75  https://blog.ucsusa.org/mark-specht/elcc-expla...          0   \n",
       "jaojnb  https://boingboing.net/2020/10/13/new-research...          4   \n",
       "jaofpy  https://www.engadget.com/nasa-artemis-accords-...          1   \n",
       "jaocqq  https://www.youtube.com/watch?v=ChqM3zqTREQ&ab...          0   \n",
       "\n",
       "             created                                               body  \\\n",
       "id                                                                        \n",
       "japxs3  1.602664e+09  The more I look into AI and new projects like ...   \n",
       "japq75  1.602663e+09                                                NaN   \n",
       "jaojnb  1.602659e+09                                                NaN   \n",
       "jaofpy  1.602658e+09                                                NaN   \n",
       "jaocqq  1.602658e+09                                                NaN   \n",
       "\n",
       "         subreddit  \n",
       "id                  \n",
       "japxs3  futurology  \n",
       "japq75  futurology  \n",
       "jaojnb  futurology  \n",
       "jaofpy  futurology  \n",
       "jaocqq  futurology  "
      ]
     },
     "metadata": {},
     "output_type": "display_data"
    }
   ],
   "source": [
    "subred1 = pd.read_csv('../data/df_with_both_subs.csv', index_col = 'id')\n",
    "subred1 = subred1.drop(columns = 'Unnamed: 0')\n",
    "display(pd.set_option('display.max_colwidth', 50), subred1.head())"
   ]
  },
  {
   "cell_type": "markdown",
   "metadata": {},
   "source": [
    "---"
   ]
  },
  {
   "cell_type": "markdown",
   "metadata": {},
   "source": [
    "### EDA"
   ]
  },
  {
   "cell_type": "code",
   "execution_count": 674,
   "metadata": {},
   "outputs": [
    {
     "data": {
      "text/html": [
       "<div>\n",
       "<style scoped>\n",
       "    .dataframe tbody tr th:only-of-type {\n",
       "        vertical-align: middle;\n",
       "    }\n",
       "\n",
       "    .dataframe tbody tr th {\n",
       "        vertical-align: top;\n",
       "    }\n",
       "\n",
       "    .dataframe thead th {\n",
       "        text-align: right;\n",
       "    }\n",
       "</style>\n",
       "<table border=\"1\" class=\"dataframe\">\n",
       "  <thead>\n",
       "    <tr style=\"text-align: right;\">\n",
       "      <th></th>\n",
       "      <th>title</th>\n",
       "      <th>subreddit</th>\n",
       "    </tr>\n",
       "    <tr>\n",
       "      <th>id</th>\n",
       "      <th></th>\n",
       "      <th></th>\n",
       "    </tr>\n",
       "  </thead>\n",
       "  <tbody>\n",
       "    <tr>\n",
       "      <th>japxs3</th>\n",
       "      <td>What would the point be to do anything if AI c...</td>\n",
       "      <td>futurology</td>\n",
       "    </tr>\n",
       "  </tbody>\n",
       "</table>\n",
       "</div>"
      ],
      "text/plain": [
       "                                                    title   subreddit\n",
       "id                                                                   \n",
       "japxs3  What would the point be to do anything if AI c...  futurology"
      ]
     },
     "metadata": {},
     "output_type": "display_data"
    },
    {
     "data": {
      "text/html": [
       "<div>\n",
       "<style scoped>\n",
       "    .dataframe tbody tr th:only-of-type {\n",
       "        vertical-align: middle;\n",
       "    }\n",
       "\n",
       "    .dataframe tbody tr th {\n",
       "        vertical-align: top;\n",
       "    }\n",
       "\n",
       "    .dataframe thead th {\n",
       "        text-align: right;\n",
       "    }\n",
       "</style>\n",
       "<table border=\"1\" class=\"dataframe\">\n",
       "  <thead>\n",
       "    <tr style=\"text-align: right;\">\n",
       "      <th></th>\n",
       "      <th>title</th>\n",
       "      <th>subreddit</th>\n",
       "    </tr>\n",
       "    <tr>\n",
       "      <th>id</th>\n",
       "      <th></th>\n",
       "      <th></th>\n",
       "    </tr>\n",
       "  </thead>\n",
       "  <tbody>\n",
       "    <tr>\n",
       "      <th>iqysvn</th>\n",
       "      <td>Study finds middle-aged individuals — those bo...</td>\n",
       "      <td>science</td>\n",
       "    </tr>\n",
       "  </tbody>\n",
       "</table>\n",
       "</div>"
      ],
      "text/plain": [
       "                                                    title subreddit\n",
       "id                                                                 \n",
       "iqysvn  Study finds middle-aged individuals — those bo...   science"
      ]
     },
     "metadata": {},
     "output_type": "display_data"
    }
   ],
   "source": [
    "display(subred1[['title', 'subreddit']].head(1))\n",
    "display(subred1[['title', 'subreddit']].tail(1))"
   ]
  },
  {
   "cell_type": "markdown",
   "metadata": {},
   "source": [
    "#### Address duplicates"
   ]
  },
  {
   "cell_type": "code",
   "execution_count": 675,
   "metadata": {
    "scrolled": true
   },
   "outputs": [
    {
     "data": {
      "text/markdown": [
       "**Count of unique titles:**"
      ],
      "text/plain": [
       "<IPython.core.display.Markdown object>"
      ]
     },
     "metadata": {},
     "output_type": "display_data"
    },
    {
     "data": {
      "text/plain": [
       "1778"
      ]
     },
     "metadata": {},
     "output_type": "display_data"
    },
    {
     "data": {
      "text/markdown": [
       "**Count of titles before dropping duplicates:**"
      ],
      "text/plain": [
       "<IPython.core.display.Markdown object>"
      ]
     },
     "metadata": {},
     "output_type": "display_data"
    },
    {
     "data": {
      "text/plain": [
       "1800"
      ]
     },
     "metadata": {},
     "output_type": "display_data"
    },
    {
     "data": {
      "text/markdown": [
       "**Count of titles after dropping duplicates:**"
      ],
      "text/plain": [
       "<IPython.core.display.Markdown object>"
      ]
     },
     "metadata": {},
     "output_type": "display_data"
    },
    {
     "data": {
      "text/plain": [
       "1778"
      ]
     },
     "execution_count": 675,
     "metadata": {},
     "output_type": "execute_result"
    }
   ],
   "source": [
    "printmd('**Count of unique titles:**')\n",
    "display(subred1['title'].nunique())\n",
    "printmd('**Count of titles before dropping duplicates:**')\n",
    "display(subred1['title'].count())\n",
    "\n",
    "subred1 = subred1.drop_duplicates()\n",
    "\n",
    "printmd('**Count of titles after dropping duplicates:**')\n",
    "subred1['title'].nunique()"
   ]
  },
  {
   "cell_type": "code",
   "execution_count": 676,
   "metadata": {
    "scrolled": false
   },
   "outputs": [
    {
     "data": {
      "text/markdown": [
       "**Value counts:**"
      ],
      "text/plain": [
       "<IPython.core.display.Markdown object>"
      ]
     },
     "metadata": {},
     "output_type": "display_data"
    },
    {
     "data": {
      "text/plain": [
       "science       931\n",
       "futurology    869\n",
       "Name: subreddit, dtype: int64"
      ]
     },
     "metadata": {},
     "output_type": "display_data"
    },
    {
     "data": {
      "text/markdown": [
       "**Value counts by weight:**"
      ],
      "text/plain": [
       "<IPython.core.display.Markdown object>"
      ]
     },
     "metadata": {},
     "output_type": "display_data"
    },
    {
     "data": {
      "text/plain": [
       "science       0.517222\n",
       "futurology    0.482778\n",
       "Name: subreddit, dtype: float64"
      ]
     },
     "execution_count": 676,
     "metadata": {},
     "output_type": "execute_result"
    }
   ],
   "source": [
    "printmd('**Value counts:**')\n",
    "display(subred1['subreddit'].value_counts())\n",
    "\n",
    "printmd('**Value counts by weight:**')\n",
    "subred1['subreddit'].value_counts(normalize = True)"
   ]
  },
  {
   "cell_type": "markdown",
   "metadata": {},
   "source": [
    "* I may want to return to the subreddits to get a bigger dataset to work with. \n",
    "\n",
    "* The classes are slightly unbalanced, so that will be a consideration during the preprocessing / get-more-data phase."
   ]
  },
  {
   "cell_type": "code",
   "execution_count": 677,
   "metadata": {},
   "outputs": [
    {
     "data": {
      "text/markdown": [
       "**Only 69 non-null `body` records.**"
      ],
      "text/plain": [
       "<IPython.core.display.Markdown object>"
      ]
     },
     "metadata": {},
     "output_type": "display_data"
    }
   ],
   "source": [
    "# Null body rows\n",
    "printmd(f\"**Only {len(subred1['body'][(subred1['body'].isnull()).astype(int) == 0])} non-null `body` records.**\")\n",
    "\n",
    "non_null_body = subred1[['body', 'subreddit']][(subred1['body'].isnull()).astype(int) == 0]"
   ]
  },
  {
   "cell_type": "markdown",
   "metadata": {},
   "source": [
    "**Ignore `body` column since there are so few in the dataset.**"
   ]
  },
  {
   "cell_type": "code",
   "execution_count": 678,
   "metadata": {},
   "outputs": [
    {
     "data": {
      "text/markdown": [
       "**Can we get enough content from post titles?**"
      ],
      "text/plain": [
       "<IPython.core.display.Markdown object>"
      ]
     },
     "metadata": {},
     "output_type": "display_data"
    }
   ],
   "source": [
    "printmd('**Can we get enough content from post titles?**')"
   ]
  },
  {
   "cell_type": "markdown",
   "metadata": {},
   "source": [
    "---"
   ]
  },
  {
   "cell_type": "code",
   "execution_count": 679,
   "metadata": {
    "scrolled": true
   },
   "outputs": [
    {
     "data": {
      "text/plain": [
       "None"
      ]
     },
     "metadata": {},
     "output_type": "display_data"
    },
    {
     "data": {
      "text/html": [
       "<div>\n",
       "<style scoped>\n",
       "    .dataframe tbody tr th:only-of-type {\n",
       "        vertical-align: middle;\n",
       "    }\n",
       "\n",
       "    .dataframe tbody tr th {\n",
       "        vertical-align: top;\n",
       "    }\n",
       "\n",
       "    .dataframe thead th {\n",
       "        text-align: right;\n",
       "    }\n",
       "</style>\n",
       "<table border=\"1\" class=\"dataframe\">\n",
       "  <thead>\n",
       "    <tr style=\"text-align: right;\">\n",
       "      <th></th>\n",
       "      <th>title</th>\n",
       "      <th>body</th>\n",
       "    </tr>\n",
       "    <tr>\n",
       "      <th>id</th>\n",
       "      <th></th>\n",
       "      <th></th>\n",
       "    </tr>\n",
       "  </thead>\n",
       "  <tbody>\n",
       "    <tr>\n",
       "      <th>japxs3</th>\n",
       "      <td>What would the point be to do anything if AI could just do it all for us?</td>\n",
       "      <td>The more I look into AI and new projects like GPT-3, we humans suck. Sure GPT-3 isn't on the level as a human brain, but that doesn't mean gpt-4 or gpt-5 won't be.  I can already see the massive jobs loss as AI will offset more jobs than it will create. I'm just feeling a little existential cris...</td>\n",
       "    </tr>\n",
       "    <tr>\n",
       "      <th>japq75</th>\n",
       "      <td>ELCC Explained: the Critical Renewable Energy Concept You’ve Never Heard Of \"Now we live in a day and age where some parts of the country generate more than 30% of their electricity with variable renewables, and that number will fast approach 100% in the decades to come.\"</td>\n",
       "      <td>NaN</td>\n",
       "    </tr>\n",
       "    <tr>\n",
       "      <th>jaojnb</th>\n",
       "      <td>There's a 50-50 chance we're living in a simulation and here's how to find out \"the probability will increase as we develop technology enabling the creation of a simulation containing conscious beings.\"</td>\n",
       "      <td>NaN</td>\n",
       "    </tr>\n",
       "    <tr>\n",
       "      <th>jaofpy</th>\n",
       "      <td>Eight nations sign NASA's Artemis Accords, pledging peace on the moon \"It's a reaffirmation of the 1967 Outer Space Treaty.\"</td>\n",
       "      <td>NaN</td>\n",
       "    </tr>\n",
       "    <tr>\n",
       "      <th>jaocqq</th>\n",
       "      <td>Mercedes benz AVTR - In Action</td>\n",
       "      <td>NaN</td>\n",
       "    </tr>\n",
       "    <tr>\n",
       "      <th>...</th>\n",
       "      <td>...</td>\n",
       "      <td>...</td>\n",
       "    </tr>\n",
       "    <tr>\n",
       "      <th>ir136p</th>\n",
       "      <td>Adults with positive SARS-CoV-2 test results were approximately twice as likely to have reported dining at a restaurant than were those with negative SARS-CoV-2 test results.</td>\n",
       "      <td>NaN</td>\n",
       "    </tr>\n",
       "    <tr>\n",
       "      <th>ir0vem</th>\n",
       "      <td>50% of Phosphorus Lost to Erosion</td>\n",
       "      <td>NaN</td>\n",
       "    </tr>\n",
       "    <tr>\n",
       "      <th>ir0pvm</th>\n",
       "      <td>Motivated Helplessness in the Context of the Covid-19 Pandemic: Evidence for a Curvilinear Relationship Between Perceived Ability to Avoid the Virus and Anxiety</td>\n",
       "      <td>NaN</td>\n",
       "    </tr>\n",
       "    <tr>\n",
       "      <th>iqzn0v</th>\n",
       "      <td>Political ideology may explain why despair spreads faster than hope during times of conflict, study suggests</td>\n",
       "      <td>NaN</td>\n",
       "    </tr>\n",
       "    <tr>\n",
       "      <th>iqysvn</th>\n",
       "      <td>Study finds middle-aged individuals — those born in the late 1960s and the 1970s — may be in a perpetual state of H3N2 influenza virus susceptibility because their antibodies bind to H3N2 viruses but fail to prevent infections.</td>\n",
       "      <td>NaN</td>\n",
       "    </tr>\n",
       "  </tbody>\n",
       "</table>\n",
       "<p>1800 rows × 2 columns</p>\n",
       "</div>"
      ],
      "text/plain": [
       "                                                                                                                                                                                                                                                                                   title  \\\n",
       "id                                                                                                                                                                                                                                                                                         \n",
       "japxs3                                                                                                                                                                                                         What would the point be to do anything if AI could just do it all for us?   \n",
       "japq75  ELCC Explained: the Critical Renewable Energy Concept You’ve Never Heard Of \"Now we live in a day and age where some parts of the country generate more than 30% of their electricity with variable renewables, and that number will fast approach 100% in the decades to come.\"   \n",
       "jaojnb                                                                        There's a 50-50 chance we're living in a simulation and here's how to find out \"the probability will increase as we develop technology enabling the creation of a simulation containing conscious beings.\"   \n",
       "jaofpy                                                                                                                                                      Eight nations sign NASA's Artemis Accords, pledging peace on the moon \"It's a reaffirmation of the 1967 Outer Space Treaty.\"   \n",
       "jaocqq                                                                                                                                                                                                                                                    Mercedes benz AVTR - In Action   \n",
       "...                                                                                                                                                                                                                                                                                  ...   \n",
       "ir136p                                                                                                    Adults with positive SARS-CoV-2 test results were approximately twice as likely to have reported dining at a restaurant than were those with negative SARS-CoV-2 test results.   \n",
       "ir0vem                                                                                                                                                                                                                                                 50% of Phosphorus Lost to Erosion   \n",
       "ir0pvm                                                                                                                  Motivated Helplessness in the Context of the Covid-19 Pandemic: Evidence for a Curvilinear Relationship Between Perceived Ability to Avoid the Virus and Anxiety   \n",
       "iqzn0v                                                                                                                                                                      Political ideology may explain why despair spreads faster than hope during times of conflict, study suggests   \n",
       "iqysvn                                               Study finds middle-aged individuals — those born in the late 1960s and the 1970s — may be in a perpetual state of H3N2 influenza virus susceptibility because their antibodies bind to H3N2 viruses but fail to prevent infections.   \n",
       "\n",
       "                                                                                                                                                                                                                                                                                                               body  \n",
       "id                                                                                                                                                                                                                                                                                                                   \n",
       "japxs3  The more I look into AI and new projects like GPT-3, we humans suck. Sure GPT-3 isn't on the level as a human brain, but that doesn't mean gpt-4 or gpt-5 won't be.  I can already see the massive jobs loss as AI will offset more jobs than it will create. I'm just feeling a little existential cris...  \n",
       "japq75                                                                                                                                                                                                                                                                                                          NaN  \n",
       "jaojnb                                                                                                                                                                                                                                                                                                          NaN  \n",
       "jaofpy                                                                                                                                                                                                                                                                                                          NaN  \n",
       "jaocqq                                                                                                                                                                                                                                                                                                          NaN  \n",
       "...                                                                                                                                                                                                                                                                                                             ...  \n",
       "ir136p                                                                                                                                                                                                                                                                                                          NaN  \n",
       "ir0vem                                                                                                                                                                                                                                                                                                          NaN  \n",
       "ir0pvm                                                                                                                                                                                                                                                                                                          NaN  \n",
       "iqzn0v                                                                                                                                                                                                                                                                                                          NaN  \n",
       "iqysvn                                                                                                                                                                                                                                                                                                          NaN  \n",
       "\n",
       "[1800 rows x 2 columns]"
      ]
     },
     "metadata": {},
     "output_type": "display_data"
    }
   ],
   "source": [
    "display(pd.set_option('display.max_colwidth', 300), subred1[['title', 'body']])"
   ]
  },
  {
   "cell_type": "markdown",
   "metadata": {},
   "source": [
    "**Lemmatizing**, ***aka Soft wash***"
   ]
  },
  {
   "cell_type": "code",
   "execution_count": 680,
   "metadata": {},
   "outputs": [
    {
     "data": {
      "text/plain": [
       "id\n",
       "japxs3    What would the point be to do anything if AI could just do it all for us? \n",
       "Name: title, dtype: object"
      ]
     },
     "metadata": {},
     "output_type": "display_data"
    }
   ],
   "source": [
    "lemmatizer = WordNetLemmatizer()\n",
    "\n",
    "def split_and_lemmatize(string):\n",
    "    word = ''\n",
    "    for i in string.split():\n",
    "        word += lemmatizer.lemmatize(i + ' ')\n",
    "    return word\n",
    "\n",
    "# Lemmatize titles\n",
    "\n",
    "display(subred1['title'].apply(split_and_lemmatize).head(1))"
   ]
  },
  {
   "cell_type": "markdown",
   "metadata": {},
   "source": [
    "**Stemming**, ***aka Aggressive wash***"
   ]
  },
  {
   "cell_type": "code",
   "execution_count": 681,
   "metadata": {},
   "outputs": [],
   "source": [
    "# stemmer = PorterStemmer()  #instantiate stemmer\n",
    "\n",
    "# def split_and_stem(string):\n",
    "#     word = \"\"   #empty string\n",
    "#     string = string.split(' ') #creates list of words\n",
    "#     for i in string: #iterates through that list of words\n",
    "#         word += (stemmer.stem(i) + \" \")  #stems each word and adds to empty string\n",
    "#     return word  #returns string with stemmed words\n",
    "\n",
    "# # ref: Heather Robinson at General Assembly :-)\n",
    "\n",
    "# Apply stemming to title \n",
    "\n",
    "# subred1['title'] = subred1['title'].apply(split_and_stem)\n",
    "\n",
    "# subred1['title'].head()"
   ]
  },
  {
   "cell_type": "markdown",
   "metadata": {},
   "source": [
    "#### Binarize the target feature: `1` for Science, `0` for Futurology"
   ]
  },
  {
   "cell_type": "code",
   "execution_count": 682,
   "metadata": {
    "scrolled": true
   },
   "outputs": [
    {
     "data": {
      "text/markdown": [
       "**Balance of classes before binarizing**"
      ],
      "text/plain": [
       "<IPython.core.display.Markdown object>"
      ]
     },
     "metadata": {},
     "output_type": "display_data"
    },
    {
     "data": {
      "text/plain": [
       "science       931\n",
       "futurology    869\n",
       "Name: subreddit, dtype: int64"
      ]
     },
     "metadata": {},
     "output_type": "display_data"
    },
    {
     "data": {
      "text/plain": [
       "science       0.517222\n",
       "futurology    0.482778\n",
       "Name: subreddit, dtype: float64"
      ]
     },
     "metadata": {},
     "output_type": "display_data"
    },
    {
     "data": {
      "text/markdown": [
       "**Balance of classes after binarizing (Science: 1, Futurology: 0)**"
      ],
      "text/plain": [
       "<IPython.core.display.Markdown object>"
      ]
     },
     "metadata": {},
     "output_type": "display_data"
    },
    {
     "data": {
      "text/plain": [
       "1    931\n",
       "0    869\n",
       "Name: subreddit, dtype: int64"
      ]
     },
     "metadata": {},
     "output_type": "display_data"
    }
   ],
   "source": [
    "# Check the balance of classes\n",
    "\n",
    "printmd('**Balance of classes before binarizing**')\n",
    "display(subred1['subreddit'].value_counts())\n",
    "display(subred1['subreddit'].value_counts(normalize = True))\n",
    "\n",
    "subred1['subreddit'] = subred1['subreddit'].map({'science': 1, 'futurology': 0})\n",
    "\n",
    "printmd('**Balance of classes after binarizing (Science: 1, Futurology: 0)**')\n",
    "display(subred1['subreddit'].value_counts())"
   ]
  },
  {
   "cell_type": "code",
   "execution_count": 607,
   "metadata": {},
   "outputs": [],
   "source": [
    "subred1.to_csv('../data/cleaned_data/cleaned_df_1.csv')"
   ]
  },
  {
   "cell_type": "markdown",
   "metadata": {},
   "source": [
    "### Cutoff point \n",
    "\n",
    "#### To toggle between Option 1 (EDA)  and Option 2 (Optimal modeling) below:\n",
    "**Step 1**: Click on this cell, then select the following from the Jupyter Notebook menu:  `Cell`  > `Run all above`\n",
    "\n",
    "**Step 2**: Run the cells within each section below\n",
    "\n",
    "**Step 3**: After running the last cell within the section, repeat `Step 1`, and go to the next section "
   ]
  },
  {
   "cell_type": "markdown",
   "metadata": {},
   "source": [
    "---"
   ]
  },
  {
   "cell_type": "markdown",
   "metadata": {},
   "source": [
    "#### Set the features"
   ]
  },
  {
   "cell_type": "code",
   "execution_count": 608,
   "metadata": {},
   "outputs": [],
   "source": [
    "# Set feature matrix and target variable\n",
    "\n",
    "X = subred1['title']\n",
    "y = subred1['subreddit']"
   ]
  },
  {
   "cell_type": "markdown",
   "metadata": {},
   "source": [
    "### Implement CountVectorizer for purposes of EDA\n",
    "\n",
    "### Preprocessing\n",
    "- Remove special characters\n",
    "- Tokenize\n",
    "- Lemmatize / stem\n",
    "- Remove stop words\n",
    "\n",
    "#### CountVectorizer\n",
    "\n",
    "1. Count number of times a token is observed in a given subreddit post\n",
    "\n",
    "2. Create a vector to store those counts"
   ]
  },
  {
   "cell_type": "code",
   "execution_count": 609,
   "metadata": {},
   "outputs": [
    {
     "data": {
      "text/markdown": [
       "**Size of feature matrix:**"
      ],
      "text/plain": [
       "<IPython.core.display.Markdown object>"
      ]
     },
     "metadata": {},
     "output_type": "display_data"
    },
    {
     "data": {
      "text/plain": [
       "(1800, 6364)"
      ]
     },
     "metadata": {},
     "output_type": "display_data"
    },
    {
     "data": {
      "text/markdown": [
       "**Count of tokens:** 6364"
      ],
      "text/plain": [
       "<IPython.core.display.Markdown object>"
      ]
     },
     "metadata": {},
     "output_type": "display_data"
    },
    {
     "data": {
      "text/markdown": [
       "**Have a look at random slices of our tokens:**"
      ],
      "text/plain": [
       "<IPython.core.display.Markdown object>"
      ]
     },
     "metadata": {},
     "output_type": "display_data"
    },
    {
     "name": "stdout",
     "output_type": "stream",
     "text": [
      "\n",
      " ['000', '01', '012', '026', '061', '083', '10', '100', '1000', '1000x', '100m', '1010g', '1062', '107', '10g', '10gw', '10th', '11', '113', '114']\n",
      "\n",
      " ['capac', 'capacity', 'cape', 'capit', 'capita', 'capitalism', 'capitalist', 'capsid', 'capsul', 'capsule', 'captur', 'capture', 'car', 'carbohydr', 'carbon', 'carboxyl', 'carboxymethyl', 'carcinoma', 'cardiac', 'cardiolog']\n",
      "\n",
      " ['encrypt', 'encycl', 'end', 'endang', 'endless', 'endocanabinoids', 'endocannabinoids', 'endogen', 'endors', 'energi', 'energy', 'enforc', 'enforced', 'engag', 'engagement', 'engin', 'engine', 'engineering', 'england', 'english']\n",
      "\n",
      " ['infrastructur', 'infus', 'ingest', 'ingredi', 'inhal', 'inher', 'inherit', 'inhibit', 'inhibitor', 'initi', 'initiation', 'inject', 'injuri', 'injuries', 'injury', 'ink', 'inner', 'innov', 'innovation', 'innovations']\n",
      "\n",
      " ['ny', 'nyc', 'nylon', 'oae2', 'obamacare', 'obes', 'obese', 'obesity', 'object', 'obligations', 'observ', 'observatori', 'obstruct', 'obtain', 'occasion', 'occup', 'occupi', 'occur', 'ocean', 'oct']\n",
      "\n",
      " ['saliva', 'salk', 'salti', 'sampl', 'san', 'sand', 'sandia', 'sapien', 'sars', 'sat', 'satellit', 'satir', 'satisfact', 'satisfi', 'satisfied', 'saudi', 'savannah', 'save', 'saved', 'saw']\n",
      "\n",
      " ['unison', 'unit', 'univ', 'univeris', 'univers', 'universe', 'university', 'unknown', 'unless', 'unlik', 'unlimit', 'unlock', 'unpleas', 'unpreced', 'unprecedented', 'unrel', 'unscrambl', 'unstabl', 'untap', 'untransl']\n"
     ]
    }
   ],
   "source": [
    "# Instantiate CountVectorizer \n",
    "cvec = CountVectorizer(stop_words = 'english')\n",
    "\n",
    "# Fit and transform the vectorizer on the corpus\n",
    "X = cvec.fit_transform(X)\n",
    "\n",
    "printmd('**Size of feature matrix:**')\n",
    "display(X.shape)\n",
    "\n",
    "printmd(f'**Count of tokens:** {len(cvec.get_feature_names())}')\n",
    "\n",
    "printmd('**Have a look at random slices of our tokens:**')\n",
    "for i in np.arange(0, len(cvec.get_feature_names()), step = 1_000):\n",
    "    increment = 20\n",
    "    print('\\n', cvec.get_feature_names()[i: i + increment])"
   ]
  },
  {
   "cell_type": "code",
   "execution_count": 620,
   "metadata": {},
   "outputs": [
    {
     "data": {
      "text/html": [
       "<div>\n",
       "<style scoped>\n",
       "    .dataframe tbody tr th:only-of-type {\n",
       "        vertical-align: middle;\n",
       "    }\n",
       "\n",
       "    .dataframe tbody tr th {\n",
       "        vertical-align: top;\n",
       "    }\n",
       "\n",
       "    .dataframe thead th {\n",
       "        text-align: right;\n",
       "    }\n",
       "</style>\n",
       "<table border=\"1\" class=\"dataframe\">\n",
       "  <thead>\n",
       "    <tr style=\"text-align: right;\">\n",
       "      <th></th>\n",
       "      <th>0</th>\n",
       "      <th>subreddit</th>\n",
       "    </tr>\n",
       "  </thead>\n",
       "  <tbody>\n",
       "    <tr>\n",
       "      <th>0</th>\n",
       "      <td>000</td>\n",
       "      <td>NaN</td>\n",
       "    </tr>\n",
       "    <tr>\n",
       "      <th>1</th>\n",
       "      <td>01</td>\n",
       "      <td>NaN</td>\n",
       "    </tr>\n",
       "    <tr>\n",
       "      <th>2</th>\n",
       "      <td>012</td>\n",
       "      <td>NaN</td>\n",
       "    </tr>\n",
       "    <tr>\n",
       "      <th>3</th>\n",
       "      <td>026</td>\n",
       "      <td>NaN</td>\n",
       "    </tr>\n",
       "    <tr>\n",
       "      <th>4</th>\n",
       "      <td>061</td>\n",
       "      <td>NaN</td>\n",
       "    </tr>\n",
       "    <tr>\n",
       "      <th>5</th>\n",
       "      <td>083</td>\n",
       "      <td>NaN</td>\n",
       "    </tr>\n",
       "    <tr>\n",
       "      <th>6</th>\n",
       "      <td>10</td>\n",
       "      <td>NaN</td>\n",
       "    </tr>\n",
       "    <tr>\n",
       "      <th>7</th>\n",
       "      <td>100</td>\n",
       "      <td>NaN</td>\n",
       "    </tr>\n",
       "    <tr>\n",
       "      <th>8</th>\n",
       "      <td>1000</td>\n",
       "      <td>NaN</td>\n",
       "    </tr>\n",
       "    <tr>\n",
       "      <th>9</th>\n",
       "      <td>1000x</td>\n",
       "      <td>NaN</td>\n",
       "    </tr>\n",
       "    <tr>\n",
       "      <th>10</th>\n",
       "      <td>100m</td>\n",
       "      <td>NaN</td>\n",
       "    </tr>\n",
       "    <tr>\n",
       "      <th>11</th>\n",
       "      <td>1010g</td>\n",
       "      <td>NaN</td>\n",
       "    </tr>\n",
       "    <tr>\n",
       "      <th>12</th>\n",
       "      <td>1062</td>\n",
       "      <td>NaN</td>\n",
       "    </tr>\n",
       "    <tr>\n",
       "      <th>13</th>\n",
       "      <td>107</td>\n",
       "      <td>NaN</td>\n",
       "    </tr>\n",
       "    <tr>\n",
       "      <th>14</th>\n",
       "      <td>10g</td>\n",
       "      <td>NaN</td>\n",
       "    </tr>\n",
       "    <tr>\n",
       "      <th>15</th>\n",
       "      <td>10gw</td>\n",
       "      <td>NaN</td>\n",
       "    </tr>\n",
       "    <tr>\n",
       "      <th>16</th>\n",
       "      <td>10th</td>\n",
       "      <td>NaN</td>\n",
       "    </tr>\n",
       "    <tr>\n",
       "      <th>17</th>\n",
       "      <td>11</td>\n",
       "      <td>NaN</td>\n",
       "    </tr>\n",
       "    <tr>\n",
       "      <th>18</th>\n",
       "      <td>113</td>\n",
       "      <td>NaN</td>\n",
       "    </tr>\n",
       "    <tr>\n",
       "      <th>19</th>\n",
       "      <td>114</td>\n",
       "      <td>NaN</td>\n",
       "    </tr>\n",
       "    <tr>\n",
       "      <th>20</th>\n",
       "      <td>116</td>\n",
       "      <td>NaN</td>\n",
       "    </tr>\n",
       "    <tr>\n",
       "      <th>21</th>\n",
       "      <td>117</td>\n",
       "      <td>NaN</td>\n",
       "    </tr>\n",
       "    <tr>\n",
       "      <th>22</th>\n",
       "      <td>12</td>\n",
       "      <td>NaN</td>\n",
       "    </tr>\n",
       "    <tr>\n",
       "      <th>23</th>\n",
       "      <td>120</td>\n",
       "      <td>NaN</td>\n",
       "    </tr>\n",
       "    <tr>\n",
       "      <th>24</th>\n",
       "      <td>121b</td>\n",
       "      <td>NaN</td>\n",
       "    </tr>\n",
       "    <tr>\n",
       "      <th>25</th>\n",
       "      <td>124</td>\n",
       "      <td>NaN</td>\n",
       "    </tr>\n",
       "    <tr>\n",
       "      <th>26</th>\n",
       "      <td>125</td>\n",
       "      <td>NaN</td>\n",
       "    </tr>\n",
       "    <tr>\n",
       "      <th>27</th>\n",
       "      <td>1273</td>\n",
       "      <td>NaN</td>\n",
       "    </tr>\n",
       "    <tr>\n",
       "      <th>28</th>\n",
       "      <td>12m</td>\n",
       "      <td>NaN</td>\n",
       "    </tr>\n",
       "    <tr>\n",
       "      <th>29</th>\n",
       "      <td>13</td>\n",
       "      <td>NaN</td>\n",
       "    </tr>\n",
       "    <tr>\n",
       "      <th>30</th>\n",
       "      <td>130</td>\n",
       "      <td>NaN</td>\n",
       "    </tr>\n",
       "    <tr>\n",
       "      <th>31</th>\n",
       "      <td>13m</td>\n",
       "      <td>NaN</td>\n",
       "    </tr>\n",
       "    <tr>\n",
       "      <th>32</th>\n",
       "      <td>14</td>\n",
       "      <td>NaN</td>\n",
       "    </tr>\n",
       "    <tr>\n",
       "      <th>33</th>\n",
       "      <td>149m</td>\n",
       "      <td>NaN</td>\n",
       "    </tr>\n",
       "    <tr>\n",
       "      <th>34</th>\n",
       "      <td>14th</td>\n",
       "      <td>NaN</td>\n",
       "    </tr>\n",
       "    <tr>\n",
       "      <th>35</th>\n",
       "      <td>15</td>\n",
       "      <td>NaN</td>\n",
       "    </tr>\n",
       "    <tr>\n",
       "      <th>36</th>\n",
       "      <td>150</td>\n",
       "      <td>NaN</td>\n",
       "    </tr>\n",
       "    <tr>\n",
       "      <th>37</th>\n",
       "      <td>1500</td>\n",
       "      <td>NaN</td>\n",
       "    </tr>\n",
       "    <tr>\n",
       "      <th>38</th>\n",
       "      <td>1500s</td>\n",
       "      <td>NaN</td>\n",
       "    </tr>\n",
       "    <tr>\n",
       "      <th>39</th>\n",
       "      <td>1552</td>\n",
       "      <td>NaN</td>\n",
       "    </tr>\n",
       "    <tr>\n",
       "      <th>40</th>\n",
       "      <td>156</td>\n",
       "      <td>NaN</td>\n",
       "    </tr>\n",
       "    <tr>\n",
       "      <th>41</th>\n",
       "      <td>16</td>\n",
       "      <td>NaN</td>\n",
       "    </tr>\n",
       "    <tr>\n",
       "      <th>42</th>\n",
       "      <td>160</td>\n",
       "      <td>NaN</td>\n",
       "    </tr>\n",
       "    <tr>\n",
       "      <th>43</th>\n",
       "      <td>163</td>\n",
       "      <td>NaN</td>\n",
       "    </tr>\n",
       "    <tr>\n",
       "      <th>44</th>\n",
       "      <td>164</td>\n",
       "      <td>NaN</td>\n",
       "    </tr>\n",
       "    <tr>\n",
       "      <th>45</th>\n",
       "      <td>17</td>\n",
       "      <td>NaN</td>\n",
       "    </tr>\n",
       "    <tr>\n",
       "      <th>46</th>\n",
       "      <td>1700</td>\n",
       "      <td>NaN</td>\n",
       "    </tr>\n",
       "    <tr>\n",
       "      <th>47</th>\n",
       "      <td>18</td>\n",
       "      <td>NaN</td>\n",
       "    </tr>\n",
       "    <tr>\n",
       "      <th>48</th>\n",
       "      <td>1880</td>\n",
       "      <td>NaN</td>\n",
       "    </tr>\n",
       "    <tr>\n",
       "      <th>49</th>\n",
       "      <td>189</td>\n",
       "      <td>NaN</td>\n",
       "    </tr>\n",
       "    <tr>\n",
       "      <th>50</th>\n",
       "      <td>19</td>\n",
       "      <td>NaN</td>\n",
       "    </tr>\n",
       "    <tr>\n",
       "      <th>51</th>\n",
       "      <td>1918</td>\n",
       "      <td>NaN</td>\n",
       "    </tr>\n",
       "    <tr>\n",
       "      <th>52</th>\n",
       "      <td>1941</td>\n",
       "      <td>NaN</td>\n",
       "    </tr>\n",
       "    <tr>\n",
       "      <th>53</th>\n",
       "      <td>1950</td>\n",
       "      <td>NaN</td>\n",
       "    </tr>\n",
       "    <tr>\n",
       "      <th>54</th>\n",
       "      <td>1950s</td>\n",
       "      <td>NaN</td>\n",
       "    </tr>\n",
       "    <tr>\n",
       "      <th>55</th>\n",
       "      <td>1960</td>\n",
       "      <td>NaN</td>\n",
       "    </tr>\n",
       "    <tr>\n",
       "      <th>56</th>\n",
       "      <td>1960s</td>\n",
       "      <td>NaN</td>\n",
       "    </tr>\n",
       "    <tr>\n",
       "      <th>57</th>\n",
       "      <td>1967</td>\n",
       "      <td>NaN</td>\n",
       "    </tr>\n",
       "    <tr>\n",
       "      <th>58</th>\n",
       "      <td>1970</td>\n",
       "      <td>NaN</td>\n",
       "    </tr>\n",
       "    <tr>\n",
       "      <th>59</th>\n",
       "      <td>1978</td>\n",
       "      <td>NaN</td>\n",
       "    </tr>\n",
       "    <tr>\n",
       "      <th>60</th>\n",
       "      <td>1980</td>\n",
       "      <td>NaN</td>\n",
       "    </tr>\n",
       "    <tr>\n",
       "      <th>61</th>\n",
       "      <td>1980s</td>\n",
       "      <td>NaN</td>\n",
       "    </tr>\n",
       "    <tr>\n",
       "      <th>62</th>\n",
       "      <td>1984</td>\n",
       "      <td>NaN</td>\n",
       "    </tr>\n",
       "    <tr>\n",
       "      <th>63</th>\n",
       "      <td>1989</td>\n",
       "      <td>NaN</td>\n",
       "    </tr>\n",
       "    <tr>\n",
       "      <th>64</th>\n",
       "      <td>1990</td>\n",
       "      <td>NaN</td>\n",
       "    </tr>\n",
       "    <tr>\n",
       "      <th>65</th>\n",
       "      <td>1993</td>\n",
       "      <td>NaN</td>\n",
       "    </tr>\n",
       "    <tr>\n",
       "      <th>66</th>\n",
       "      <td>19th</td>\n",
       "      <td>NaN</td>\n",
       "    </tr>\n",
       "    <tr>\n",
       "      <th>67</th>\n",
       "      <td>1gw</td>\n",
       "      <td>NaN</td>\n",
       "    </tr>\n",
       "    <tr>\n",
       "      <th>68</th>\n",
       "      <td>1m</td>\n",
       "      <td>NaN</td>\n",
       "    </tr>\n",
       "    <tr>\n",
       "      <th>69</th>\n",
       "      <td>1tbp</td>\n",
       "      <td>NaN</td>\n",
       "    </tr>\n",
       "    <tr>\n",
       "      <th>70</th>\n",
       "      <td>20</td>\n",
       "      <td>NaN</td>\n",
       "    </tr>\n",
       "    <tr>\n",
       "      <th>71</th>\n",
       "      <td>200</td>\n",
       "      <td>NaN</td>\n",
       "    </tr>\n",
       "    <tr>\n",
       "      <th>72</th>\n",
       "      <td>2000</td>\n",
       "      <td>NaN</td>\n",
       "    </tr>\n",
       "    <tr>\n",
       "      <th>73</th>\n",
       "      <td>2001</td>\n",
       "      <td>NaN</td>\n",
       "    </tr>\n",
       "    <tr>\n",
       "      <th>74</th>\n",
       "      <td>2002</td>\n",
       "      <td>NaN</td>\n",
       "    </tr>\n",
       "    <tr>\n",
       "      <th>75</th>\n",
       "      <td>2003</td>\n",
       "      <td>NaN</td>\n",
       "    </tr>\n",
       "    <tr>\n",
       "      <th>76</th>\n",
       "      <td>2005</td>\n",
       "      <td>NaN</td>\n",
       "    </tr>\n",
       "    <tr>\n",
       "      <th>77</th>\n",
       "      <td>2006</td>\n",
       "      <td>NaN</td>\n",
       "    </tr>\n",
       "    <tr>\n",
       "      <th>78</th>\n",
       "      <td>2009</td>\n",
       "      <td>NaN</td>\n",
       "    </tr>\n",
       "    <tr>\n",
       "      <th>79</th>\n",
       "      <td>200b</td>\n",
       "      <td>NaN</td>\n",
       "    </tr>\n",
       "    <tr>\n",
       "      <th>80</th>\n",
       "      <td>2010</td>\n",
       "      <td>NaN</td>\n",
       "    </tr>\n",
       "    <tr>\n",
       "      <th>81</th>\n",
       "      <td>2013</td>\n",
       "      <td>NaN</td>\n",
       "    </tr>\n",
       "    <tr>\n",
       "      <th>82</th>\n",
       "      <td>2014</td>\n",
       "      <td>NaN</td>\n",
       "    </tr>\n",
       "    <tr>\n",
       "      <th>83</th>\n",
       "      <td>2015</td>\n",
       "      <td>NaN</td>\n",
       "    </tr>\n",
       "    <tr>\n",
       "      <th>84</th>\n",
       "      <td>2016</td>\n",
       "      <td>NaN</td>\n",
       "    </tr>\n",
       "    <tr>\n",
       "      <th>85</th>\n",
       "      <td>2017</td>\n",
       "      <td>NaN</td>\n",
       "    </tr>\n",
       "    <tr>\n",
       "      <th>86</th>\n",
       "      <td>2018</td>\n",
       "      <td>NaN</td>\n",
       "    </tr>\n",
       "    <tr>\n",
       "      <th>87</th>\n",
       "      <td>2019</td>\n",
       "      <td>NaN</td>\n",
       "    </tr>\n",
       "    <tr>\n",
       "      <th>88</th>\n",
       "      <td>2020</td>\n",
       "      <td>NaN</td>\n",
       "    </tr>\n",
       "    <tr>\n",
       "      <th>89</th>\n",
       "      <td>2020s</td>\n",
       "      <td>NaN</td>\n",
       "    </tr>\n",
       "    <tr>\n",
       "      <th>90</th>\n",
       "      <td>2021</td>\n",
       "      <td>NaN</td>\n",
       "    </tr>\n",
       "    <tr>\n",
       "      <th>91</th>\n",
       "      <td>2022</td>\n",
       "      <td>NaN</td>\n",
       "    </tr>\n",
       "    <tr>\n",
       "      <th>92</th>\n",
       "      <td>2023</td>\n",
       "      <td>NaN</td>\n",
       "    </tr>\n",
       "    <tr>\n",
       "      <th>93</th>\n",
       "      <td>2024</td>\n",
       "      <td>NaN</td>\n",
       "    </tr>\n",
       "    <tr>\n",
       "      <th>94</th>\n",
       "      <td>2025</td>\n",
       "      <td>NaN</td>\n",
       "    </tr>\n",
       "    <tr>\n",
       "      <th>95</th>\n",
       "      <td>2026</td>\n",
       "      <td>NaN</td>\n",
       "    </tr>\n",
       "    <tr>\n",
       "      <th>96</th>\n",
       "      <td>2030</td>\n",
       "      <td>NaN</td>\n",
       "    </tr>\n",
       "    <tr>\n",
       "      <th>97</th>\n",
       "      <td>2035</td>\n",
       "      <td>NaN</td>\n",
       "    </tr>\n",
       "    <tr>\n",
       "      <th>98</th>\n",
       "      <td>2040</td>\n",
       "      <td>NaN</td>\n",
       "    </tr>\n",
       "    <tr>\n",
       "      <th>99</th>\n",
       "      <td>2050</td>\n",
       "      <td>NaN</td>\n",
       "    </tr>\n",
       "  </tbody>\n",
       "</table>\n",
       "</div>"
      ],
      "text/plain": [
       "        0  subreddit\n",
       "0     000        NaN\n",
       "1      01        NaN\n",
       "2     012        NaN\n",
       "3     026        NaN\n",
       "4     061        NaN\n",
       "5     083        NaN\n",
       "6      10        NaN\n",
       "7     100        NaN\n",
       "8    1000        NaN\n",
       "9   1000x        NaN\n",
       "10   100m        NaN\n",
       "11  1010g        NaN\n",
       "12   1062        NaN\n",
       "13    107        NaN\n",
       "14    10g        NaN\n",
       "15   10gw        NaN\n",
       "16   10th        NaN\n",
       "17     11        NaN\n",
       "18    113        NaN\n",
       "19    114        NaN\n",
       "20    116        NaN\n",
       "21    117        NaN\n",
       "22     12        NaN\n",
       "23    120        NaN\n",
       "24   121b        NaN\n",
       "25    124        NaN\n",
       "26    125        NaN\n",
       "27   1273        NaN\n",
       "28    12m        NaN\n",
       "29     13        NaN\n",
       "30    130        NaN\n",
       "31    13m        NaN\n",
       "32     14        NaN\n",
       "33   149m        NaN\n",
       "34   14th        NaN\n",
       "35     15        NaN\n",
       "36    150        NaN\n",
       "37   1500        NaN\n",
       "38  1500s        NaN\n",
       "39   1552        NaN\n",
       "40    156        NaN\n",
       "41     16        NaN\n",
       "42    160        NaN\n",
       "43    163        NaN\n",
       "44    164        NaN\n",
       "45     17        NaN\n",
       "46   1700        NaN\n",
       "47     18        NaN\n",
       "48   1880        NaN\n",
       "49    189        NaN\n",
       "50     19        NaN\n",
       "51   1918        NaN\n",
       "52   1941        NaN\n",
       "53   1950        NaN\n",
       "54  1950s        NaN\n",
       "55   1960        NaN\n",
       "56  1960s        NaN\n",
       "57   1967        NaN\n",
       "58   1970        NaN\n",
       "59   1978        NaN\n",
       "60   1980        NaN\n",
       "61  1980s        NaN\n",
       "62   1984        NaN\n",
       "63   1989        NaN\n",
       "64   1990        NaN\n",
       "65   1993        NaN\n",
       "66   19th        NaN\n",
       "67    1gw        NaN\n",
       "68     1m        NaN\n",
       "69   1tbp        NaN\n",
       "70     20        NaN\n",
       "71    200        NaN\n",
       "72   2000        NaN\n",
       "73   2001        NaN\n",
       "74   2002        NaN\n",
       "75   2003        NaN\n",
       "76   2005        NaN\n",
       "77   2006        NaN\n",
       "78   2009        NaN\n",
       "79   200b        NaN\n",
       "80   2010        NaN\n",
       "81   2013        NaN\n",
       "82   2014        NaN\n",
       "83   2015        NaN\n",
       "84   2016        NaN\n",
       "85   2017        NaN\n",
       "86   2018        NaN\n",
       "87   2019        NaN\n",
       "88   2020        NaN\n",
       "89  2020s        NaN\n",
       "90   2021        NaN\n",
       "91   2022        NaN\n",
       "92   2023        NaN\n",
       "93   2024        NaN\n",
       "94   2025        NaN\n",
       "95   2026        NaN\n",
       "96   2030        NaN\n",
       "97   2035        NaN\n",
       "98   2040        NaN\n",
       "99   2050        NaN"
      ]
     },
     "execution_count": 620,
     "metadata": {},
     "output_type": "execute_result"
    }
   ],
   "source": [
    "features_and_subreddit = pd.concat([pd.Series(cvec.get_feature_names()), y], axis = 1)\n",
    "features_and_subreddit.head(100)"
   ]
  },
  {
   "cell_type": "code",
   "execution_count": 347,
   "metadata": {
    "scrolled": true
   },
   "outputs": [
    {
     "data": {
      "image/png": "[encoded data removed]",
      "text/plain": [
       "<Figure size 432x288 with 1 Axes>"
      ]
     },
     "metadata": {
      "needs_background": "light"
     },
     "output_type": "display_data"
    }
   ],
   "source": [
    "# Convert training data to dataframe\n",
    "X = pd.DataFrame(X.todense(), columns = cvec.get_feature_names())\n",
    "\n",
    "# Plot top occurring words\n",
    "X.sum().sort_values(ascending = False).head(10)[::-1].plot(kind = 'barh')\n",
    "\n",
    "plt.title('Most frequently used words in Science & Futurology subreddits')\n",
    "plt.xlabel('Count of times used');"
   ]
  },
  {
   "cell_type": "markdown",
   "metadata": {},
   "source": [
    "<br>"
   ]
  },
  {
   "cell_type": "code",
   "execution_count": null,
   "metadata": {},
   "outputs": [],
   "source": []
  },
  {
   "cell_type": "code",
   "execution_count": null,
   "metadata": {},
   "outputs": [],
   "source": []
  },
  {
   "cell_type": "code",
   "execution_count": null,
   "metadata": {},
   "outputs": [],
   "source": []
  }
 ],
 "metadata": {
  "kernelspec": {
   "display_name": "Python 3",
   "language": "python",
   "name": "python3"
  },
  "language_info": {
   "codemirror_mode": {
    "name": "ipython",
    "version": 3
   },
   "file_extension": ".py",
   "mimetype": "text/x-python",
   "name": "python",
   "nbconvert_exporter": "python",
   "pygments_lexer": "ipython3",
   "version": "3.8.3"
  }
 },
 "nbformat": 4,
 "nbformat_minor": 4
}
