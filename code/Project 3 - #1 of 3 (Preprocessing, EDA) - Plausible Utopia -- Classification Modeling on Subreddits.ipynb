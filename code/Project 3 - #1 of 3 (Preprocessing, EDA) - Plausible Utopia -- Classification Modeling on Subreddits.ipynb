{
 "cells": [
  {
   "cell_type": "markdown",
   "metadata": {},
   "source": [
    "### Project 3: Plausible Utopia \n",
    "\n",
    "### Classification Modeling on Subreddits to Classify Futurists vs. Scientists\n",
    "\n",
    "### Notebook 1 of 3: Preprocessing, EDA "
   ]
  },
  {
   "cell_type": "markdown",
   "metadata": {},
   "source": [
    "### Problem statement\n",
    "\n",
    "Enthralled as I am with the future, high-flying visions of art merging with technology that bring about utopia seem  ungrounded and unscientific.\n",
    "\n",
    "Using classification models on datasets collected from the [`futurology`](https://www.reddit.com/r/Futurology) and [`science`](https://www.reddit.com/r/Science) subreddits, I'd like to answer some of the below questions (where possible):\n",
    "\n",
    "* Are the futurist and scientist communities mutually exclusive? \n",
    "\n",
    "* What is the nature of the discussions amongst the scientist community?\n",
    "\n",
    "* What is the nature of the discussions amongst the futurist community?\n",
    "\n",
    "* Where is there topical crossover between these discussions, if any? \n",
    "\n",
    "* Does the topical crossover support any of the visions of the future held and propagated by futurists, such as:\n",
    "  \n",
    "     * Mind uploading, digital heaven, etc.\n",
    "     * Reverse-aging, insect-based diets, colonization of other planets, etc.\n",
    "\n",
    "* Furthermore, are solutions being discussed to the disaster-visions of futurists, such as:\n",
    "    * Food and water shortages\n",
    "    * Environmental disasters\n",
    "\n"
   ]
  },
  {
   "cell_type": "markdown",
   "metadata": {},
   "source": [
    "#### Libary imports"
   ]
  },
  {
   "cell_type": "code",
   "execution_count": 1103,
   "metadata": {},
   "outputs": [],
   "source": [
    "import os\n",
    "import pandas as pd\n",
    "import numpy as np\n",
    "import matplotlib.pyplot as plt\n",
    "import seaborn as sns\n",
    "import missingno as msno\n",
    "\n",
    "from sklearn.linear_model import LinearRegression, LassoCV, RidgeCV, LogisticRegression\n",
    "from sklearn.model_selection import train_test_split, cross_val_score, GridSearchCV\n",
    "from sklearn.preprocessing import StandardScaler, PolynomialFeatures\n",
    "from sklearn.neighbors import KNeighborsClassifier\n",
    "from sklearn.pipeline import Pipeline\n",
    "from sklearn import metrics\n",
    "import statsmodels.api as sm\n",
    "from sklearn.metrics import confusion_matrix, plot_confusion_matrix, classification_report, accuracy_score, roc_auc_score\n",
    "from sklearn.naive_bayes import MultinomialNB\n",
    "     \n",
    "from nltk.tokenize import sent_tokenize, word_tokenize, RegexpTokenizer\n",
    "from nltk.stem import WordNetLemmatizer\n",
    "from nltk.stem.porter import PorterStemmer\n",
    "from nltk.corpus import stopwords\n",
    "from nltk.sentiment.vader import SentimentIntensityAnalyzer\n",
    "import re\n",
    "from sklearn.feature_extraction.text import CountVectorizer\n",
    "import string\n",
    "\n",
    "\n",
    "import warnings; warnings.simplefilter('ignore')\n",
    "##this will hide deprecation/future warnings\n",
    "\n",
    "from IPython.display import Markdown, display\n",
    "pd.set_option('display.max_row', 200) # Set ipython's max row display\n",
    "pd.set_option('display.max_columns', 85) # Set iPython's max column count\n",
    "pd.set_option('display.max_colwidth', 1_000) # Set iPython's max column width\n",
    "\n",
    "# pseudo-markdown in code cells\n",
    "def printmd(string):\n",
    "    display(Markdown(string))\n",
    "# ref: https://discuss.analyticsvidhya.com/t/how-to-make-a-text-bold-within-print-statement-in-ipython-notebook/14552/2"
   ]
  },
  {
   "cell_type": "markdown",
   "metadata": {},
   "source": [
    "#### Data collection"
   ]
  },
  {
   "cell_type": "markdown",
   "metadata": {},
   "source": [
    "I utilized the Python Reddit API Wrapper (PRAW) API in the data collection process. You can find the steps I took in the `PRAW_data_collection` notebook, located in the code folder of this repository.\n",
    "\n",
    "The East Coast local instructors were very generous with their walkthrough of the process, so I definitely credit them for the ease of the data collection."
   ]
  },
  {
   "cell_type": "markdown",
   "metadata": {},
   "source": [
    "From the [rubric](https://git.generalassemb.ly/abishop17/project_3/blob/master/README.md):\n",
    "\n",
    ">Was data collection and storage optimized through custom functions, pipelines, and/or automation? <br><br>\n",
    ">Was thought given to the server receiving the requests such as considering number of requests per second?"
   ]
  },
  {
   "cell_type": "markdown",
   "metadata": {},
   "source": [
    "#### Preprocessing and EDA"
   ]
  },
  {
   "cell_type": "markdown",
   "metadata": {},
   "source": [
    "#### Dataset 1: \"New\" flavor, pulled from Reddit on 10/13/20"
   ]
  },
  {
   "cell_type": "code",
   "execution_count": 1104,
   "metadata": {
    "scrolled": true
   },
   "outputs": [
    {
     "data": {
      "text/plain": [
       "None"
      ]
     },
     "metadata": {},
     "output_type": "display_data"
    },
    {
     "data": {
      "text/html": [
       "<div>\n",
       "<style scoped>\n",
       "    .dataframe tbody tr th:only-of-type {\n",
       "        vertical-align: middle;\n",
       "    }\n",
       "\n",
       "    .dataframe tbody tr th {\n",
       "        vertical-align: top;\n",
       "    }\n",
       "\n",
       "    .dataframe thead th {\n",
       "        text-align: right;\n",
       "    }\n",
       "</style>\n",
       "<table border=\"1\" class=\"dataframe\">\n",
       "  <thead>\n",
       "    <tr style=\"text-align: right;\">\n",
       "      <th></th>\n",
       "      <th>title</th>\n",
       "      <th>score</th>\n",
       "      <th>id</th>\n",
       "      <th>url</th>\n",
       "      <th>comms_num</th>\n",
       "      <th>created</th>\n",
       "      <th>body</th>\n",
       "      <th>subreddit</th>\n",
       "    </tr>\n",
       "  </thead>\n",
       "  <tbody>\n",
       "    <tr>\n",
       "      <th>0</th>\n",
       "      <td>What would the point be to do anything if AI c...</td>\n",
       "      <td>0</td>\n",
       "      <td>japxs3</td>\n",
       "      <td>https://www.reddit.com/r/Futurology/comments/j...</td>\n",
       "      <td>4</td>\n",
       "      <td>1.602664e+09</td>\n",
       "      <td>The more I look into AI and new projects like ...</td>\n",
       "      <td>futurology</td>\n",
       "    </tr>\n",
       "    <tr>\n",
       "      <th>1</th>\n",
       "      <td>ELCC Explained: the Critical Renewable Energy ...</td>\n",
       "      <td>4</td>\n",
       "      <td>japq75</td>\n",
       "      <td>https://blog.ucsusa.org/mark-specht/elcc-expla...</td>\n",
       "      <td>0</td>\n",
       "      <td>1.602663e+09</td>\n",
       "      <td>NaN</td>\n",
       "      <td>futurology</td>\n",
       "    </tr>\n",
       "    <tr>\n",
       "      <th>2</th>\n",
       "      <td>There's a 50-50 chance we're living in a simul...</td>\n",
       "      <td>8</td>\n",
       "      <td>jaojnb</td>\n",
       "      <td>https://boingboing.net/2020/10/13/new-research...</td>\n",
       "      <td>4</td>\n",
       "      <td>1.602659e+09</td>\n",
       "      <td>NaN</td>\n",
       "      <td>futurology</td>\n",
       "    </tr>\n",
       "    <tr>\n",
       "      <th>3</th>\n",
       "      <td>Eight nations sign NASA's Artemis Accords, ple...</td>\n",
       "      <td>3</td>\n",
       "      <td>jaofpy</td>\n",
       "      <td>https://www.engadget.com/nasa-artemis-accords-...</td>\n",
       "      <td>1</td>\n",
       "      <td>1.602658e+09</td>\n",
       "      <td>NaN</td>\n",
       "      <td>futurology</td>\n",
       "    </tr>\n",
       "    <tr>\n",
       "      <th>4</th>\n",
       "      <td>Mercedes benz AVTR - In Action</td>\n",
       "      <td>8</td>\n",
       "      <td>jaocqq</td>\n",
       "      <td>https://www.youtube.com/watch?v=ChqM3zqTREQ&amp;ab...</td>\n",
       "      <td>0</td>\n",
       "      <td>1.602658e+09</td>\n",
       "      <td>NaN</td>\n",
       "      <td>futurology</td>\n",
       "    </tr>\n",
       "  </tbody>\n",
       "</table>\n",
       "</div>"
      ],
      "text/plain": [
       "                                               title  score      id  \\\n",
       "0  What would the point be to do anything if AI c...      0  japxs3   \n",
       "1  ELCC Explained: the Critical Renewable Energy ...      4  japq75   \n",
       "2  There's a 50-50 chance we're living in a simul...      8  jaojnb   \n",
       "3  Eight nations sign NASA's Artemis Accords, ple...      3  jaofpy   \n",
       "4                     Mercedes benz AVTR - In Action      8  jaocqq   \n",
       "\n",
       "                                                 url  comms_num       created  \\\n",
       "0  https://www.reddit.com/r/Futurology/comments/j...          4  1.602664e+09   \n",
       "1  https://blog.ucsusa.org/mark-specht/elcc-expla...          0  1.602663e+09   \n",
       "2  https://boingboing.net/2020/10/13/new-research...          4  1.602659e+09   \n",
       "3  https://www.engadget.com/nasa-artemis-accords-...          1  1.602658e+09   \n",
       "4  https://www.youtube.com/watch?v=ChqM3zqTREQ&ab...          0  1.602658e+09   \n",
       "\n",
       "                                                body   subreddit  \n",
       "0  The more I look into AI and new projects like ...  futurology  \n",
       "1                                                NaN  futurology  \n",
       "2                                                NaN  futurology  \n",
       "3                                                NaN  futurology  \n",
       "4                                                NaN  futurology  "
      ]
     },
     "metadata": {},
     "output_type": "display_data"
    }
   ],
   "source": [
    "subred = pd.read_csv('../data/df_with_both_subs.csv')\n",
    "subred = subred.drop(columns = 'Unnamed: 0')\n",
    "display(pd.set_option('display.max_colwidth', 50), subred.head())"
   ]
  },
  {
   "cell_type": "markdown",
   "metadata": {},
   "source": [
    "---"
   ]
  },
  {
   "cell_type": "markdown",
   "metadata": {},
   "source": [
    "### EDA"
   ]
  },
  {
   "cell_type": "code",
   "execution_count": 1105,
   "metadata": {},
   "outputs": [
    {
     "data": {
      "text/html": [
       "<div>\n",
       "<style scoped>\n",
       "    .dataframe tbody tr th:only-of-type {\n",
       "        vertical-align: middle;\n",
       "    }\n",
       "\n",
       "    .dataframe tbody tr th {\n",
       "        vertical-align: top;\n",
       "    }\n",
       "\n",
       "    .dataframe thead th {\n",
       "        text-align: right;\n",
       "    }\n",
       "</style>\n",
       "<table border=\"1\" class=\"dataframe\">\n",
       "  <thead>\n",
       "    <tr style=\"text-align: right;\">\n",
       "      <th></th>\n",
       "      <th>title</th>\n",
       "      <th>subreddit</th>\n",
       "    </tr>\n",
       "  </thead>\n",
       "  <tbody>\n",
       "    <tr>\n",
       "      <th>0</th>\n",
       "      <td>What would the point be to do anything if AI c...</td>\n",
       "      <td>futurology</td>\n",
       "    </tr>\n",
       "  </tbody>\n",
       "</table>\n",
       "</div>"
      ],
      "text/plain": [
       "                                               title   subreddit\n",
       "0  What would the point be to do anything if AI c...  futurology"
      ]
     },
     "metadata": {},
     "output_type": "display_data"
    },
    {
     "data": {
      "text/html": [
       "<div>\n",
       "<style scoped>\n",
       "    .dataframe tbody tr th:only-of-type {\n",
       "        vertical-align: middle;\n",
       "    }\n",
       "\n",
       "    .dataframe tbody tr th {\n",
       "        vertical-align: top;\n",
       "    }\n",
       "\n",
       "    .dataframe thead th {\n",
       "        text-align: right;\n",
       "    }\n",
       "</style>\n",
       "<table border=\"1\" class=\"dataframe\">\n",
       "  <thead>\n",
       "    <tr style=\"text-align: right;\">\n",
       "      <th></th>\n",
       "      <th>title</th>\n",
       "      <th>subreddit</th>\n",
       "    </tr>\n",
       "  </thead>\n",
       "  <tbody>\n",
       "    <tr>\n",
       "      <th>1799</th>\n",
       "      <td>Study finds middle-aged individuals — those bo...</td>\n",
       "      <td>science</td>\n",
       "    </tr>\n",
       "  </tbody>\n",
       "</table>\n",
       "</div>"
      ],
      "text/plain": [
       "                                                  title subreddit\n",
       "1799  Study finds middle-aged individuals — those bo...   science"
      ]
     },
     "metadata": {},
     "output_type": "display_data"
    }
   ],
   "source": [
    "display(subred[['title', 'subreddit']].head(1))\n",
    "display(subred[['title', 'subreddit']].tail(1))"
   ]
  },
  {
   "cell_type": "markdown",
   "metadata": {},
   "source": [
    "#### Address duplicates"
   ]
  },
  {
   "cell_type": "code",
   "execution_count": 1106,
   "metadata": {
    "scrolled": true
   },
   "outputs": [
    {
     "data": {
      "text/markdown": [
       "**Count of unique titles:**"
      ],
      "text/plain": [
       "<IPython.core.display.Markdown object>"
      ]
     },
     "metadata": {},
     "output_type": "display_data"
    },
    {
     "data": {
      "text/plain": [
       "1778"
      ]
     },
     "metadata": {},
     "output_type": "display_data"
    },
    {
     "data": {
      "text/markdown": [
       "**Count of titles before dropping duplicates:**"
      ],
      "text/plain": [
       "<IPython.core.display.Markdown object>"
      ]
     },
     "metadata": {},
     "output_type": "display_data"
    },
    {
     "data": {
      "text/plain": [
       "1800"
      ]
     },
     "metadata": {},
     "output_type": "display_data"
    },
    {
     "data": {
      "text/markdown": [
       "**Count of titles after dropping duplicates:**"
      ],
      "text/plain": [
       "<IPython.core.display.Markdown object>"
      ]
     },
     "metadata": {},
     "output_type": "display_data"
    },
    {
     "data": {
      "text/plain": [
       "1778"
      ]
     },
     "execution_count": 1106,
     "metadata": {},
     "output_type": "execute_result"
    }
   ],
   "source": [
    "printmd('**Count of unique titles:**')\n",
    "display(subred['title'].nunique())\n",
    "printmd('**Count of titles before dropping duplicates:**')\n",
    "display(subred['title'].count())\n",
    "\n",
    "subred = subred.drop_duplicates()\n",
    "\n",
    "printmd('**Count of titles after dropping duplicates:**')\n",
    "subred['title'].nunique()"
   ]
  },
  {
   "cell_type": "code",
   "execution_count": 1107,
   "metadata": {
    "scrolled": false
   },
   "outputs": [
    {
     "data": {
      "text/markdown": [
       "**Value counts:**"
      ],
      "text/plain": [
       "<IPython.core.display.Markdown object>"
      ]
     },
     "metadata": {},
     "output_type": "display_data"
    },
    {
     "data": {
      "text/plain": [
       "science       931\n",
       "futurology    869\n",
       "Name: subreddit, dtype: int64"
      ]
     },
     "metadata": {},
     "output_type": "display_data"
    },
    {
     "data": {
      "text/markdown": [
       "**Value counts by weight:**"
      ],
      "text/plain": [
       "<IPython.core.display.Markdown object>"
      ]
     },
     "metadata": {},
     "output_type": "display_data"
    },
    {
     "data": {
      "text/plain": [
       "science       0.517222\n",
       "futurology    0.482778\n",
       "Name: subreddit, dtype: float64"
      ]
     },
     "execution_count": 1107,
     "metadata": {},
     "output_type": "execute_result"
    }
   ],
   "source": [
    "printmd('**Value counts:**')\n",
    "display(subred['subreddit'].value_counts())\n",
    "\n",
    "printmd('**Value counts by weight:**')\n",
    "subred['subreddit'].value_counts(normalize = True)"
   ]
  },
  {
   "cell_type": "markdown",
   "metadata": {},
   "source": [
    "* I may want to return to the subreddits to get a bigger dataset to work with. \n",
    "\n",
    "* The classes are slightly unbalanced, so that will be a consideration during the preprocessing / get-more-data phase."
   ]
  },
  {
   "cell_type": "code",
   "execution_count": 1108,
   "metadata": {},
   "outputs": [
    {
     "data": {
      "text/markdown": [
       "**Only 69 non-null `body` records.**"
      ],
      "text/plain": [
       "<IPython.core.display.Markdown object>"
      ]
     },
     "metadata": {},
     "output_type": "display_data"
    }
   ],
   "source": [
    "# Null body rows\n",
    "printmd(f\"**Only {len(subred['body'][(subred['body'].isnull()).astype(int) == 0])} non-null `body` records.**\")\n",
    "\n",
    "non_null_body = subred[['body', 'subreddit']][(subred['body'].isnull()).astype(int) == 0]"
   ]
  },
  {
   "cell_type": "markdown",
   "metadata": {},
   "source": [
    "**Ignore `body` column since there are so few in the dataset.**"
   ]
  },
  {
   "cell_type": "code",
   "execution_count": 1109,
   "metadata": {},
   "outputs": [
    {
     "data": {
      "text/markdown": [
       "**Can we get enough content from post titles?**"
      ],
      "text/plain": [
       "<IPython.core.display.Markdown object>"
      ]
     },
     "metadata": {},
     "output_type": "display_data"
    }
   ],
   "source": [
    "printmd('**Can we get enough content from post titles?**')"
   ]
  },
  {
   "cell_type": "markdown",
   "metadata": {},
   "source": [
    "---"
   ]
  },
  {
   "cell_type": "code",
   "execution_count": 1110,
   "metadata": {
    "scrolled": true
   },
   "outputs": [
    {
     "data": {
      "text/plain": [
       "None"
      ]
     },
     "metadata": {},
     "output_type": "display_data"
    },
    {
     "data": {
      "text/html": [
       "<div>\n",
       "<style scoped>\n",
       "    .dataframe tbody tr th:only-of-type {\n",
       "        vertical-align: middle;\n",
       "    }\n",
       "\n",
       "    .dataframe tbody tr th {\n",
       "        vertical-align: top;\n",
       "    }\n",
       "\n",
       "    .dataframe thead th {\n",
       "        text-align: right;\n",
       "    }\n",
       "</style>\n",
       "<table border=\"1\" class=\"dataframe\">\n",
       "  <thead>\n",
       "    <tr style=\"text-align: right;\">\n",
       "      <th></th>\n",
       "      <th>title</th>\n",
       "      <th>body</th>\n",
       "    </tr>\n",
       "  </thead>\n",
       "  <tbody>\n",
       "    <tr>\n",
       "      <th>0</th>\n",
       "      <td>What would the point be to do anything if AI could just do it all for us?</td>\n",
       "      <td>The more I look into AI and new projects like GPT-3, we humans suck. Sure GPT-3 isn't on the level as a human brain, but that doesn't mean gpt-4 or gpt-5 won't be.  I can already see the massive jobs loss as AI will offset more jobs than it will create. I'm just feeling a little existential cris...</td>\n",
       "    </tr>\n",
       "    <tr>\n",
       "      <th>1</th>\n",
       "      <td>ELCC Explained: the Critical Renewable Energy Concept You’ve Never Heard Of \"Now we live in a day and age where some parts of the country generate more than 30% of their electricity with variable renewables, and that number will fast approach 100% in the decades to come.\"</td>\n",
       "      <td>NaN</td>\n",
       "    </tr>\n",
       "    <tr>\n",
       "      <th>2</th>\n",
       "      <td>There's a 50-50 chance we're living in a simulation and here's how to find out \"the probability will increase as we develop technology enabling the creation of a simulation containing conscious beings.\"</td>\n",
       "      <td>NaN</td>\n",
       "    </tr>\n",
       "    <tr>\n",
       "      <th>3</th>\n",
       "      <td>Eight nations sign NASA's Artemis Accords, pledging peace on the moon \"It's a reaffirmation of the 1967 Outer Space Treaty.\"</td>\n",
       "      <td>NaN</td>\n",
       "    </tr>\n",
       "    <tr>\n",
       "      <th>4</th>\n",
       "      <td>Mercedes benz AVTR - In Action</td>\n",
       "      <td>NaN</td>\n",
       "    </tr>\n",
       "    <tr>\n",
       "      <th>...</th>\n",
       "      <td>...</td>\n",
       "      <td>...</td>\n",
       "    </tr>\n",
       "    <tr>\n",
       "      <th>1795</th>\n",
       "      <td>Adults with positive SARS-CoV-2 test results were approximately twice as likely to have reported dining at a restaurant than were those with negative SARS-CoV-2 test results.</td>\n",
       "      <td>NaN</td>\n",
       "    </tr>\n",
       "    <tr>\n",
       "      <th>1796</th>\n",
       "      <td>50% of Phosphorus Lost to Erosion</td>\n",
       "      <td>NaN</td>\n",
       "    </tr>\n",
       "    <tr>\n",
       "      <th>1797</th>\n",
       "      <td>Motivated Helplessness in the Context of the Covid-19 Pandemic: Evidence for a Curvilinear Relationship Between Perceived Ability to Avoid the Virus and Anxiety</td>\n",
       "      <td>NaN</td>\n",
       "    </tr>\n",
       "    <tr>\n",
       "      <th>1798</th>\n",
       "      <td>Political ideology may explain why despair spreads faster than hope during times of conflict, study suggests</td>\n",
       "      <td>NaN</td>\n",
       "    </tr>\n",
       "    <tr>\n",
       "      <th>1799</th>\n",
       "      <td>Study finds middle-aged individuals — those born in the late 1960s and the 1970s — may be in a perpetual state of H3N2 influenza virus susceptibility because their antibodies bind to H3N2 viruses but fail to prevent infections.</td>\n",
       "      <td>NaN</td>\n",
       "    </tr>\n",
       "  </tbody>\n",
       "</table>\n",
       "<p>1800 rows × 2 columns</p>\n",
       "</div>"
      ],
      "text/plain": [
       "                                                                                                                                                                                                                                                                                 title  \\\n",
       "0                                                                                                                                                                                                            What would the point be to do anything if AI could just do it all for us?   \n",
       "1     ELCC Explained: the Critical Renewable Energy Concept You’ve Never Heard Of \"Now we live in a day and age where some parts of the country generate more than 30% of their electricity with variable renewables, and that number will fast approach 100% in the decades to come.\"   \n",
       "2                                                                           There's a 50-50 chance we're living in a simulation and here's how to find out \"the probability will increase as we develop technology enabling the creation of a simulation containing conscious beings.\"   \n",
       "3                                                                                                                                                         Eight nations sign NASA's Artemis Accords, pledging peace on the moon \"It's a reaffirmation of the 1967 Outer Space Treaty.\"   \n",
       "4                                                                                                                                                                                                                                                       Mercedes benz AVTR - In Action   \n",
       "...                                                                                                                                                                                                                                                                                ...   \n",
       "1795                                                                                                    Adults with positive SARS-CoV-2 test results were approximately twice as likely to have reported dining at a restaurant than were those with negative SARS-CoV-2 test results.   \n",
       "1796                                                                                                                                                                                                                                                 50% of Phosphorus Lost to Erosion   \n",
       "1797                                                                                                                  Motivated Helplessness in the Context of the Covid-19 Pandemic: Evidence for a Curvilinear Relationship Between Perceived Ability to Avoid the Virus and Anxiety   \n",
       "1798                                                                                                                                                                      Political ideology may explain why despair spreads faster than hope during times of conflict, study suggests   \n",
       "1799                                               Study finds middle-aged individuals — those born in the late 1960s and the 1970s — may be in a perpetual state of H3N2 influenza virus susceptibility because their antibodies bind to H3N2 viruses but fail to prevent infections.   \n",
       "\n",
       "                                                                                                                                                                                                                                                                                                             body  \n",
       "0     The more I look into AI and new projects like GPT-3, we humans suck. Sure GPT-3 isn't on the level as a human brain, but that doesn't mean gpt-4 or gpt-5 won't be.  I can already see the massive jobs loss as AI will offset more jobs than it will create. I'm just feeling a little existential cris...  \n",
       "1                                                                                                                                                                                                                                                                                                             NaN  \n",
       "2                                                                                                                                                                                                                                                                                                             NaN  \n",
       "3                                                                                                                                                                                                                                                                                                             NaN  \n",
       "4                                                                                                                                                                                                                                                                                                             NaN  \n",
       "...                                                                                                                                                                                                                                                                                                           ...  \n",
       "1795                                                                                                                                                                                                                                                                                                          NaN  \n",
       "1796                                                                                                                                                                                                                                                                                                          NaN  \n",
       "1797                                                                                                                                                                                                                                                                                                          NaN  \n",
       "1798                                                                                                                                                                                                                                                                                                          NaN  \n",
       "1799                                                                                                                                                                                                                                                                                                          NaN  \n",
       "\n",
       "[1800 rows x 2 columns]"
      ]
     },
     "metadata": {},
     "output_type": "display_data"
    }
   ],
   "source": [
    "display(pd.set_option('display.max_colwidth', 300), subred[['title', 'body']])"
   ]
  },
  {
   "cell_type": "markdown",
   "metadata": {},
   "source": [
    "**Lemmatizing**, ***aka Soft wash***"
   ]
  },
  {
   "cell_type": "code",
   "execution_count": 1111,
   "metadata": {},
   "outputs": [
    {
     "data": {
      "text/plain": [
       "0    What would the point be to do anything if AI could just do it all for us? \n",
       "Name: title, dtype: object"
      ]
     },
     "metadata": {},
     "output_type": "display_data"
    }
   ],
   "source": [
    "lemmatizer = WordNetLemmatizer()\n",
    "\n",
    "def split_and_lemmatize(string):\n",
    "    word = ''\n",
    "    for i in string.split():\n",
    "        word += lemmatizer.lemmatize(i + ' ')\n",
    "    return word\n",
    "\n",
    "# Lemmatize titles\n",
    "\n",
    "display(subred['title'].apply(split_and_lemmatize).head(1))"
   ]
  },
  {
   "cell_type": "markdown",
   "metadata": {},
   "source": [
    "**Stemming**, ***aka Aggressive wash***"
   ]
  },
  {
   "cell_type": "code",
   "execution_count": 1112,
   "metadata": {},
   "outputs": [],
   "source": [
    "# stemmer = PorterStemmer()  #instantiate stemmer\n",
    "\n",
    "# def split_and_stem(string):\n",
    "#     word = \"\"   #empty string\n",
    "#     string = string.split(' ') #creates list of words\n",
    "#     for i in string: #iterates through that list of words\n",
    "#         word += (stemmer.stem(i) + \" \")  #stems each word and adds to empty string\n",
    "#     return word  #returns string with stemmed words\n",
    "\n",
    "# # ref: Heather Robinson at General Assembly :-)\n",
    "\n",
    "# Apply stemming to title \n",
    "\n",
    "# subred1['title'] = subred1['title'].apply(split_and_stem)\n",
    "\n",
    "# subred1['title'].head()"
   ]
  },
  {
   "cell_type": "markdown",
   "metadata": {},
   "source": [
    "#### Binarize the target feature: `1` for Science, `0` for Futurology"
   ]
  },
  {
   "cell_type": "code",
   "execution_count": 1113,
   "metadata": {
    "scrolled": true
   },
   "outputs": [
    {
     "data": {
      "text/markdown": [
       "**Balance of classes before binarizing**"
      ],
      "text/plain": [
       "<IPython.core.display.Markdown object>"
      ]
     },
     "metadata": {},
     "output_type": "display_data"
    },
    {
     "data": {
      "text/plain": [
       "science       931\n",
       "futurology    869\n",
       "Name: subreddit, dtype: int64"
      ]
     },
     "metadata": {},
     "output_type": "display_data"
    },
    {
     "data": {
      "text/plain": [
       "science       0.517222\n",
       "futurology    0.482778\n",
       "Name: subreddit, dtype: float64"
      ]
     },
     "metadata": {},
     "output_type": "display_data"
    }
   ],
   "source": [
    "# Check the balance of classes\n",
    "\n",
    "printmd('**Balance of classes before binarizing**')\n",
    "display(subred['subreddit'].value_counts())\n",
    "display(subred['subreddit'].value_counts(normalize = True))\n",
    "\n",
    "# subred['subreddit'] = subred['subreddit'].map({'science': 1, 'futurology': 0})\n",
    "\n",
    "# printmd('**Balance of classes after binarizing (Science: 1, Futurology: 0)**')\n",
    "# display(subred['subreddit'].value_counts())"
   ]
  },
  {
   "cell_type": "code",
   "execution_count": 1123,
   "metadata": {},
   "outputs": [],
   "source": [
    "subred.to_csv('../data/cleaned_data/cleaned_df.csv')"
   ]
  },
  {
   "cell_type": "markdown",
   "metadata": {},
   "source": [
    "### Cutoff point \n",
    "\n",
    "#### To toggle between Option 1 (EDA)  and Option 2 (Optimal modeling) below:\n",
    "**Step 1**: Click on this cell, then select the following from the Jupyter Notebook menu:  `Cell`  > `Run all above`\n",
    "\n",
    "**Step 2**: Run the cells within each section below\n",
    "\n",
    "**Step 3**: After running the last cell within the section, repeat `Step 1`, and go to the next section "
   ]
  },
  {
   "cell_type": "markdown",
   "metadata": {},
   "source": [
    "---"
   ]
  },
  {
   "cell_type": "markdown",
   "metadata": {},
   "source": [
    "#### Set the features"
   ]
  },
  {
   "cell_type": "code",
   "execution_count": 1114,
   "metadata": {},
   "outputs": [],
   "source": [
    "# Set feature matrix and target variable\n",
    "\n",
    "X = subred['title']\n",
    "y = subred['subreddit']"
   ]
  },
  {
   "cell_type": "markdown",
   "metadata": {},
   "source": [
    "### Implement CountVectorizer for purposes of EDA\n",
    "\n",
    "### Preprocessing\n",
    "- Remove special characters\n",
    "- Tokenize\n",
    "- Lemmatize / stem\n",
    "- Remove stop words\n",
    "\n",
    "#### CountVectorizer\n",
    "\n",
    "1. Count number of times a token is observed in a given subreddit post\n",
    "\n",
    "2. Create a vector to store those counts"
   ]
  },
  {
   "cell_type": "code",
   "execution_count": 1115,
   "metadata": {},
   "outputs": [],
   "source": [
    "subred = subred[['title', 'subreddit']]"
   ]
  },
  {
   "cell_type": "markdown",
   "metadata": {},
   "source": [
    "#### Document Term Matrix"
   ]
  },
  {
   "cell_type": "code",
   "execution_count": 1116,
   "metadata": {
    "scrolled": true
   },
   "outputs": [
    {
     "data": {
      "text/html": [
       "<div>\n",
       "<style scoped>\n",
       "    .dataframe tbody tr th:only-of-type {\n",
       "        vertical-align: middle;\n",
       "    }\n",
       "\n",
       "    .dataframe tbody tr th {\n",
       "        vertical-align: top;\n",
       "    }\n",
       "\n",
       "    .dataframe thead th {\n",
       "        text-align: right;\n",
       "    }\n",
       "</style>\n",
       "<table border=\"1\" class=\"dataframe\">\n",
       "  <thead>\n",
       "    <tr style=\"text-align: right;\">\n",
       "      <th></th>\n",
       "      <th>subreddit</th>\n",
       "      <th>000</th>\n",
       "      <th>01</th>\n",
       "      <th>012</th>\n",
       "      <th>026</th>\n",
       "      <th>061</th>\n",
       "      <th>083</th>\n",
       "      <th>10</th>\n",
       "      <th>100</th>\n",
       "      <th>1000</th>\n",
       "      <th>1000x</th>\n",
       "      <th>100m</th>\n",
       "      <th>1010g</th>\n",
       "      <th>1062</th>\n",
       "      <th>107</th>\n",
       "      <th>10g</th>\n",
       "      <th>10gw</th>\n",
       "      <th>10th</th>\n",
       "      <th>11</th>\n",
       "      <th>113</th>\n",
       "      <th>114</th>\n",
       "      <th>116</th>\n",
       "      <th>117</th>\n",
       "      <th>12</th>\n",
       "      <th>120</th>\n",
       "      <th>121b</th>\n",
       "      <th>124</th>\n",
       "      <th>125</th>\n",
       "      <th>1273</th>\n",
       "      <th>12m</th>\n",
       "      <th>13</th>\n",
       "      <th>130</th>\n",
       "      <th>13m</th>\n",
       "      <th>14</th>\n",
       "      <th>149m</th>\n",
       "      <th>14th</th>\n",
       "      <th>15</th>\n",
       "      <th>150</th>\n",
       "      <th>1500</th>\n",
       "      <th>1500s</th>\n",
       "      <th>1552</th>\n",
       "      <th>156</th>\n",
       "      <th>...</th>\n",
       "      <th>wrongdoers</th>\n",
       "      <th>wrote</th>\n",
       "      <th>wsj</th>\n",
       "      <th>xanadu</th>\n",
       "      <th>xi</th>\n",
       "      <th>xnh</th>\n",
       "      <th>xpeng</th>\n",
       "      <th>yards</th>\n",
       "      <th>year</th>\n",
       "      <th>years</th>\n",
       "      <th>yes</th>\n",
       "      <th>yield</th>\n",
       "      <th>yields</th>\n",
       "      <th>yo</th>\n",
       "      <th>yoga</th>\n",
       "      <th>york</th>\n",
       "      <th>yorkers</th>\n",
       "      <th>young</th>\n",
       "      <th>younger</th>\n",
       "      <th>youth</th>\n",
       "      <th>youtube</th>\n",
       "      <th>youtubers</th>\n",
       "      <th>yr</th>\n",
       "      <th>ytd</th>\n",
       "      <th>yunan</th>\n",
       "      <th>zappar</th>\n",
       "      <th>zebrafish</th>\n",
       "      <th>zeolitic</th>\n",
       "      <th>zero</th>\n",
       "      <th>zeroavia</th>\n",
       "      <th>zinc</th>\n",
       "      <th>zip</th>\n",
       "      <th>zipline</th>\n",
       "      <th>zips</th>\n",
       "      <th>zircon</th>\n",
       "      <th>zn</th>\n",
       "      <th>zombie</th>\n",
       "      <th>zone</th>\n",
       "      <th>zoologists</th>\n",
       "      <th>zoom</th>\n",
       "      <th>αc</th>\n",
       "      <th>μg</th>\n",
       "    </tr>\n",
       "  </thead>\n",
       "  <tbody>\n",
       "    <tr>\n",
       "      <th>0</th>\n",
       "      <td>futurology</td>\n",
       "      <td>25</td>\n",
       "      <td>0</td>\n",
       "      <td>0</td>\n",
       "      <td>0</td>\n",
       "      <td>0</td>\n",
       "      <td>0</td>\n",
       "      <td>19</td>\n",
       "      <td>12</td>\n",
       "      <td>2</td>\n",
       "      <td>1</td>\n",
       "      <td>1</td>\n",
       "      <td>0</td>\n",
       "      <td>0</td>\n",
       "      <td>0</td>\n",
       "      <td>3</td>\n",
       "      <td>1</td>\n",
       "      <td>1</td>\n",
       "      <td>2</td>\n",
       "      <td>1</td>\n",
       "      <td>1</td>\n",
       "      <td>0</td>\n",
       "      <td>1</td>\n",
       "      <td>9</td>\n",
       "      <td>0</td>\n",
       "      <td>0</td>\n",
       "      <td>0</td>\n",
       "      <td>1</td>\n",
       "      <td>0</td>\n",
       "      <td>0</td>\n",
       "      <td>2</td>\n",
       "      <td>0</td>\n",
       "      <td>1</td>\n",
       "      <td>5</td>\n",
       "      <td>1</td>\n",
       "      <td>1</td>\n",
       "      <td>3</td>\n",
       "      <td>2</td>\n",
       "      <td>0</td>\n",
       "      <td>0</td>\n",
       "      <td>0</td>\n",
       "      <td>0</td>\n",
       "      <td>...</td>\n",
       "      <td>0</td>\n",
       "      <td>1</td>\n",
       "      <td>1</td>\n",
       "      <td>1</td>\n",
       "      <td>1</td>\n",
       "      <td>0</td>\n",
       "      <td>2</td>\n",
       "      <td>0</td>\n",
       "      <td>20</td>\n",
       "      <td>32</td>\n",
       "      <td>1</td>\n",
       "      <td>0</td>\n",
       "      <td>1</td>\n",
       "      <td>1</td>\n",
       "      <td>0</td>\n",
       "      <td>1</td>\n",
       "      <td>0</td>\n",
       "      <td>3</td>\n",
       "      <td>0</td>\n",
       "      <td>0</td>\n",
       "      <td>0</td>\n",
       "      <td>1</td>\n",
       "      <td>2</td>\n",
       "      <td>1</td>\n",
       "      <td>0</td>\n",
       "      <td>1</td>\n",
       "      <td>1</td>\n",
       "      <td>1</td>\n",
       "      <td>11</td>\n",
       "      <td>3</td>\n",
       "      <td>1</td>\n",
       "      <td>0</td>\n",
       "      <td>1</td>\n",
       "      <td>0</td>\n",
       "      <td>1</td>\n",
       "      <td>1</td>\n",
       "      <td>4</td>\n",
       "      <td>1</td>\n",
       "      <td>0</td>\n",
       "      <td>2</td>\n",
       "      <td>0</td>\n",
       "      <td>0</td>\n",
       "    </tr>\n",
       "    <tr>\n",
       "      <th>1</th>\n",
       "      <td>science</td>\n",
       "      <td>19</td>\n",
       "      <td>1</td>\n",
       "      <td>1</td>\n",
       "      <td>1</td>\n",
       "      <td>1</td>\n",
       "      <td>1</td>\n",
       "      <td>17</td>\n",
       "      <td>9</td>\n",
       "      <td>0</td>\n",
       "      <td>0</td>\n",
       "      <td>0</td>\n",
       "      <td>1</td>\n",
       "      <td>1</td>\n",
       "      <td>1</td>\n",
       "      <td>0</td>\n",
       "      <td>0</td>\n",
       "      <td>0</td>\n",
       "      <td>8</td>\n",
       "      <td>2</td>\n",
       "      <td>0</td>\n",
       "      <td>1</td>\n",
       "      <td>0</td>\n",
       "      <td>8</td>\n",
       "      <td>2</td>\n",
       "      <td>1</td>\n",
       "      <td>1</td>\n",
       "      <td>0</td>\n",
       "      <td>2</td>\n",
       "      <td>1</td>\n",
       "      <td>8</td>\n",
       "      <td>1</td>\n",
       "      <td>0</td>\n",
       "      <td>3</td>\n",
       "      <td>0</td>\n",
       "      <td>1</td>\n",
       "      <td>11</td>\n",
       "      <td>2</td>\n",
       "      <td>1</td>\n",
       "      <td>1</td>\n",
       "      <td>1</td>\n",
       "      <td>1</td>\n",
       "      <td>...</td>\n",
       "      <td>1</td>\n",
       "      <td>0</td>\n",
       "      <td>0</td>\n",
       "      <td>0</td>\n",
       "      <td>0</td>\n",
       "      <td>1</td>\n",
       "      <td>0</td>\n",
       "      <td>1</td>\n",
       "      <td>18</td>\n",
       "      <td>33</td>\n",
       "      <td>0</td>\n",
       "      <td>3</td>\n",
       "      <td>0</td>\n",
       "      <td>0</td>\n",
       "      <td>1</td>\n",
       "      <td>2</td>\n",
       "      <td>1</td>\n",
       "      <td>10</td>\n",
       "      <td>3</td>\n",
       "      <td>2</td>\n",
       "      <td>1</td>\n",
       "      <td>0</td>\n",
       "      <td>1</td>\n",
       "      <td>0</td>\n",
       "      <td>1</td>\n",
       "      <td>0</td>\n",
       "      <td>1</td>\n",
       "      <td>1</td>\n",
       "      <td>2</td>\n",
       "      <td>0</td>\n",
       "      <td>0</td>\n",
       "      <td>1</td>\n",
       "      <td>0</td>\n",
       "      <td>1</td>\n",
       "      <td>0</td>\n",
       "      <td>0</td>\n",
       "      <td>0</td>\n",
       "      <td>0</td>\n",
       "      <td>1</td>\n",
       "      <td>0</td>\n",
       "      <td>1</td>\n",
       "      <td>2</td>\n",
       "    </tr>\n",
       "  </tbody>\n",
       "</table>\n",
       "<p>2 rows × 7578 columns</p>\n",
       "</div>"
      ],
      "text/plain": [
       "    subreddit  000  01  012  026  061  083  10  100  1000  1000x  100m  1010g  \\\n",
       "0  futurology   25   0    0    0    0    0  19   12     2      1     1      0   \n",
       "1     science   19   1    1    1    1    1  17    9     0      0     0      1   \n",
       "\n",
       "   1062  107  10g  10gw  10th  11  113  114  116  117  12  120  121b  124  \\\n",
       "0     0    0    3     1     1   2    1    1    0    1   9    0     0    0   \n",
       "1     1    1    0     0     0   8    2    0    1    0   8    2     1    1   \n",
       "\n",
       "   125  1273  12m  13  130  13m  14  149m  14th  15  150  1500  1500s  1552  \\\n",
       "0    1     0    0   2    0    1   5     1     1   3    2     0      0     0   \n",
       "1    0     2    1   8    1    0   3     0     1  11    2     1      1     1   \n",
       "\n",
       "   156  ...  wrongdoers  wrote  wsj  xanadu  xi  xnh  xpeng  yards  year  \\\n",
       "0    0  ...           0      1    1       1   1    0      2      0    20   \n",
       "1    1  ...           1      0    0       0   0    1      0      1    18   \n",
       "\n",
       "   years  yes  yield  yields  yo  yoga  york  yorkers  young  younger  youth  \\\n",
       "0     32    1      0       1   1     0     1        0      3        0      0   \n",
       "1     33    0      3       0   0     1     2        1     10        3      2   \n",
       "\n",
       "   youtube  youtubers  yr  ytd  yunan  zappar  zebrafish  zeolitic  zero  \\\n",
       "0        0          1   2    1      0       1          1         1    11   \n",
       "1        1          0   1    0      1       0          1         1     2   \n",
       "\n",
       "   zeroavia  zinc  zip  zipline  zips  zircon  zn  zombie  zone  zoologists  \\\n",
       "0         3     1    0        1     0       1   1       4     1           0   \n",
       "1         0     0    1        0     1       0   0       0     0           1   \n",
       "\n",
       "   zoom  αc  μg  \n",
       "0     2   0   0  \n",
       "1     0   1   2  \n",
       "\n",
       "[2 rows x 7578 columns]"
      ]
     },
     "execution_count": 1116,
     "metadata": {},
     "output_type": "execute_result"
    }
   ],
   "source": [
    "subred['title'] = subred['title'].apply(split_and_lemmatize)\n",
    "\n",
    "subred_grouped_by_sub = subred[['subreddit', 'title']].groupby(by = 'subreddit').agg(lambda x: ' '.join(x))\n",
    "\n",
    "# Create a Document Term Matrix\n",
    "from sklearn.feature_extraction.text import CountVectorizer\n",
    "cv = CountVectorizer(analyzer = 'word', stop_words = 'english')\n",
    "\n",
    "subred_grouped_by_sub_new = cv.fit_transform(subred_grouped_by_sub['title'])\n",
    "\n",
    "df_doc_term_matrix = pd.DataFrame(subred_grouped_by_sub_new.todense(), columns = cv.get_feature_names())\n",
    "\n",
    "df_doc_term_matrix['subreddit'] = subred_grouped_by_sub.index\n",
    "subreddit_col = df_doc_term_matrix.pop('subreddit')\n",
    "df_doc_term_matrix.insert(0, 'subreddit', subreddit_col)\n",
    "\n",
    "df_doc_term_matrix\n",
    "\n",
    "# ref: https://www.analyticsvidhya.com/blog/2020/04/beginners-guide-exploratory-data-analysis-text-data/"
   ]
  },
  {
   "cell_type": "markdown",
   "metadata": {},
   "source": [
    "#### Most common words"
   ]
  },
  {
   "cell_type": "code",
   "execution_count": 1117,
   "metadata": {},
   "outputs": [
    {
     "data": {
      "image/png": "[encoded data removed]",
      "text/plain": [
       "<Figure size 432x288 with 1 Axes>"
      ]
     },
     "metadata": {
      "needs_background": "light"
     },
     "output_type": "display_data"
    }
   ],
   "source": [
    "# Most common words used in science and futurology subreddits\n",
    "\n",
    "top_words = df_doc_term_matrix.iloc[:, 1:].sum().sort_values(ascending = False)[:5][::-1]\n",
    "top_words = df_doc_term_matrix[[word for word in pd.Series(top_words).index]]\n",
    "\n",
    "top_words.plot.bar()\n",
    "\n",
    "plt.title('Most common words used in science and futurology subreddits')\n",
    "plt.xticks(size = 11, rotation = 0)\n",
    "plt.yticks(size = 11);"
   ]
  },
  {
   "cell_type": "code",
   "execution_count": 1101,
   "metadata": {
    "collapsed": true
   },
   "outputs": [
    {
     "ename": "TypeError",
     "evalue": "'<' not supported between instances of 'numpy.ndarray' and 'str'",
     "output_type": "error",
     "traceback": [
      "\u001b[1;31m---------------------------------------------------------------------------\u001b[0m",
      "\u001b[1;31mTypeError\u001b[0m                                 Traceback (most recent call last)",
      "\u001b[1;32m~\\anaconda3\\lib\\site-packages\\pandas\\core\\series.py\u001b[0m in \u001b[0;36m_try_kind_sort\u001b[1;34m(arr)\u001b[0m\n\u001b[0;32m   3246\u001b[0m                 \u001b[1;31m# if kind==mergesort, it can fail for object dtype\u001b[0m\u001b[1;33m\u001b[0m\u001b[1;33m\u001b[0m\u001b[1;33m\u001b[0m\u001b[0m\n\u001b[1;32m-> 3247\u001b[1;33m                 \u001b[1;32mreturn\u001b[0m \u001b[0marr\u001b[0m\u001b[1;33m.\u001b[0m\u001b[0margsort\u001b[0m\u001b[1;33m(\u001b[0m\u001b[0mkind\u001b[0m\u001b[1;33m=\u001b[0m\u001b[0mkind\u001b[0m\u001b[1;33m)\u001b[0m\u001b[1;33m\u001b[0m\u001b[1;33m\u001b[0m\u001b[0m\n\u001b[0m\u001b[0;32m   3248\u001b[0m             \u001b[1;32mexcept\u001b[0m \u001b[0mTypeError\u001b[0m\u001b[1;33m:\u001b[0m\u001b[1;33m\u001b[0m\u001b[1;33m\u001b[0m\u001b[0m\n",
      "\u001b[1;31mTypeError\u001b[0m: '<' not supported between instances of 'numpy.ndarray' and 'str'",
      "\nDuring handling of the above exception, another exception occurred:\n",
      "\u001b[1;31mTypeError\u001b[0m                                 Traceback (most recent call last)",
      "\u001b[1;32m<ipython-input-1101-7db550be4b28>\u001b[0m in \u001b[0;36m<module>\u001b[1;34m\u001b[0m\n\u001b[0;32m      1\u001b[0m \u001b[1;31m# Most common words used in science subreddit\u001b[0m\u001b[1;33m\u001b[0m\u001b[1;33m\u001b[0m\u001b[1;33m\u001b[0m\u001b[0m\n\u001b[0;32m      2\u001b[0m \u001b[1;33m\u001b[0m\u001b[0m\n\u001b[1;32m----> 3\u001b[1;33m \u001b[0mtop_words_science_only\u001b[0m \u001b[1;33m=\u001b[0m \u001b[0mdf_doc_term_matrix\u001b[0m\u001b[1;33m[\u001b[0m\u001b[0mdf_doc_term_matrix\u001b[0m\u001b[1;33m[\u001b[0m\u001b[1;34m'subreddit'\u001b[0m\u001b[1;33m]\u001b[0m \u001b[1;33m==\u001b[0m \u001b[1;34m'science'\u001b[0m\u001b[1;33m]\u001b[0m\u001b[1;33m.\u001b[0m\u001b[0msum\u001b[0m\u001b[1;33m(\u001b[0m\u001b[1;33m)\u001b[0m\u001b[1;33m.\u001b[0m\u001b[0msort_values\u001b[0m\u001b[1;33m(\u001b[0m\u001b[0mascending\u001b[0m \u001b[1;33m=\u001b[0m \u001b[1;32mFalse\u001b[0m\u001b[1;33m)\u001b[0m\u001b[1;33m[\u001b[0m\u001b[1;33m:\u001b[0m\u001b[1;36m5\u001b[0m\u001b[1;33m]\u001b[0m\u001b[1;33m[\u001b[0m\u001b[1;33m:\u001b[0m\u001b[1;33m:\u001b[0m\u001b[1;33m-\u001b[0m\u001b[1;36m1\u001b[0m\u001b[1;33m]\u001b[0m\u001b[1;33m\u001b[0m\u001b[1;33m\u001b[0m\u001b[0m\n\u001b[0m\u001b[0;32m      4\u001b[0m \u001b[0mtop_words_science_only\u001b[0m \u001b[1;33m=\u001b[0m \u001b[0mdf_doc_term_matrix\u001b[0m\u001b[1;33m[\u001b[0m\u001b[1;33m[\u001b[0m\u001b[0mword\u001b[0m \u001b[1;32mfor\u001b[0m \u001b[0mword\u001b[0m \u001b[1;32min\u001b[0m \u001b[0mpd\u001b[0m\u001b[1;33m.\u001b[0m\u001b[0mSeries\u001b[0m\u001b[1;33m(\u001b[0m\u001b[0mtop_words_science_only\u001b[0m\u001b[1;33m)\u001b[0m\u001b[1;33m.\u001b[0m\u001b[0mindex\u001b[0m\u001b[1;33m]\u001b[0m\u001b[1;33m]\u001b[0m\u001b[1;33m\u001b[0m\u001b[1;33m\u001b[0m\u001b[0m\n\u001b[0;32m      5\u001b[0m \u001b[1;33m\u001b[0m\u001b[0m\n",
      "\u001b[1;32m~\\anaconda3\\lib\\site-packages\\pandas\\core\\series.py\u001b[0m in \u001b[0;36msort_values\u001b[1;34m(self, axis, ascending, inplace, kind, na_position, ignore_index, key)\u001b[0m\n\u001b[0;32m   3259\u001b[0m         \u001b[0midx\u001b[0m \u001b[1;33m=\u001b[0m \u001b[0mibase\u001b[0m\u001b[1;33m.\u001b[0m\u001b[0mdefault_index\u001b[0m\u001b[1;33m(\u001b[0m\u001b[0mlen\u001b[0m\u001b[1;33m(\u001b[0m\u001b[0mself\u001b[0m\u001b[1;33m)\u001b[0m\u001b[1;33m)\u001b[0m\u001b[1;33m\u001b[0m\u001b[1;33m\u001b[0m\u001b[0m\n\u001b[0;32m   3260\u001b[0m \u001b[1;33m\u001b[0m\u001b[0m\n\u001b[1;32m-> 3261\u001b[1;33m         \u001b[0margsorted\u001b[0m \u001b[1;33m=\u001b[0m \u001b[0m_try_kind_sort\u001b[0m\u001b[1;33m(\u001b[0m\u001b[0mself\u001b[0m\u001b[1;33m[\u001b[0m\u001b[0mgood\u001b[0m\u001b[1;33m]\u001b[0m\u001b[1;33m)\u001b[0m\u001b[1;33m\u001b[0m\u001b[1;33m\u001b[0m\u001b[0m\n\u001b[0m\u001b[0;32m   3262\u001b[0m \u001b[1;33m\u001b[0m\u001b[0m\n\u001b[0;32m   3263\u001b[0m         \u001b[1;32mif\u001b[0m \u001b[0mis_list_like\u001b[0m\u001b[1;33m(\u001b[0m\u001b[0mascending\u001b[0m\u001b[1;33m)\u001b[0m\u001b[1;33m:\u001b[0m\u001b[1;33m\u001b[0m\u001b[1;33m\u001b[0m\u001b[0m\n",
      "\u001b[1;32m~\\anaconda3\\lib\\site-packages\\pandas\\core\\series.py\u001b[0m in \u001b[0;36m_try_kind_sort\u001b[1;34m(arr)\u001b[0m\n\u001b[0;32m   3249\u001b[0m                 \u001b[1;31m# stable sort not available for object dtype\u001b[0m\u001b[1;33m\u001b[0m\u001b[1;33m\u001b[0m\u001b[1;33m\u001b[0m\u001b[0m\n\u001b[0;32m   3250\u001b[0m                 \u001b[1;31m# uses the argsort default quicksort\u001b[0m\u001b[1;33m\u001b[0m\u001b[1;33m\u001b[0m\u001b[1;33m\u001b[0m\u001b[0m\n\u001b[1;32m-> 3251\u001b[1;33m                 \u001b[1;32mreturn\u001b[0m \u001b[0marr\u001b[0m\u001b[1;33m.\u001b[0m\u001b[0margsort\u001b[0m\u001b[1;33m(\u001b[0m\u001b[0mkind\u001b[0m\u001b[1;33m=\u001b[0m\u001b[1;34m\"quicksort\"\u001b[0m\u001b[1;33m)\u001b[0m\u001b[1;33m\u001b[0m\u001b[1;33m\u001b[0m\u001b[0m\n\u001b[0m\u001b[0;32m   3252\u001b[0m \u001b[1;33m\u001b[0m\u001b[0m\n\u001b[0;32m   3253\u001b[0m         \u001b[0marr\u001b[0m \u001b[1;33m=\u001b[0m \u001b[0mself\u001b[0m\u001b[1;33m.\u001b[0m\u001b[0m_values\u001b[0m\u001b[1;33m\u001b[0m\u001b[1;33m\u001b[0m\u001b[0m\n",
      "\u001b[1;31mTypeError\u001b[0m: '<' not supported between instances of 'numpy.ndarray' and 'str'"
     ]
    }
   ],
   "source": [
    "# Most common words used in science subreddit\n",
    "\n",
    "top_words_science_only = df_doc_term_matrix[df_doc_term_matrix['subreddit'] == 'science'].sum().sort_values(ascending = False)[:5][::-1]\n",
    "top_words_science_only = df_doc_term_matrix[[word for word in pd.Series(top_words_science_only).index]]\n",
    "\n",
    "top_words_science_only.plot.bar()\n",
    "\n",
    "plt.title('Most common words used in science subreddit')\n",
    "plt.xticks(size = 11, rotation = 0)\n",
    "plt.yticks(size = 11);"
   ]
  },
  {
   "cell_type": "code",
   "execution_count": 1096,
   "metadata": {
    "scrolled": false
   },
   "outputs": [
    {
     "data": {
      "image/png": "[encoded data removed]",
      "text/plain": [
       "<Figure size 432x288 with 1 Axes>"
      ]
     },
     "metadata": {
      "needs_background": "light"
     },
     "output_type": "display_data"
    }
   ],
   "source": [
    "# Most common words used in futurology subreddit\n",
    "\n",
    "top_words_futurology_only = df_doc_term_matrix[df_doc_term_matrix.index == 'futurology'].sum().sort_values(ascending = False)[:5][::-1]\n",
    "top_words_futurology_only = df_doc_term_matrix[[word for word in pd.Series(top_words_futurology_only).index]]\n",
    "\n",
    "top_words_futurology_only.plot.bar()\n",
    "\n",
    "plt.title('Most common words used in futurology subreddit')\n",
    "plt.xticks(size = 11, rotation = 0)\n",
    "plt.yticks(size = 11);"
   ]
  },
  {
   "cell_type": "markdown",
   "metadata": {},
   "source": [
    "#### Distribution of vocabulary (total word count per class)"
   ]
  },
  {
   "cell_type": "code",
   "execution_count": 1120,
   "metadata": {},
   "outputs": [
    {
     "data": {
      "text/plain": [
       "new             274.0\n",
       "study           207.0\n",
       "covid           180.0\n",
       "19              173.0\n",
       "researchers     116.0\n",
       "people          114.0\n",
       "energy          106.0\n",
       "climate         106.0\n",
       "world            97.0\n",
       "scientists       97.0\n",
       "future           91.0\n",
       "time             83.0\n",
       "change           81.0\n",
       "solar            79.0\n",
       "ai               75.0\n",
       "hydrogen         72.0\n",
       "brain            67.0\n",
       "human            66.0\n",
       "years            65.0\n",
       "use              64.0\n",
       "help             58.0\n",
       "like             58.0\n",
       "sars             58.0\n",
       "research         57.0\n",
       "power            57.0\n",
       "cov              56.0\n",
       "cells            55.0\n",
       "finds            54.0\n",
       "pandemic         53.0\n",
       "carbon           52.0\n",
       "global           51.0\n",
       "shows            50.0\n",
       "health           50.0\n",
       "likely           49.0\n",
       "using            48.0\n",
       "life             48.0\n",
       "million          47.0\n",
       "fuel             46.0\n",
       "used             45.0\n",
       "children         44.0\n",
       "000              44.0\n",
       "high             44.0\n",
       "quantum          43.0\n",
       "emissions        42.0\n",
       "make             42.0\n",
       "based            42.0\n",
       "gas              39.0\n",
       "according        38.0\n",
       "year             38.0\n",
       "patients         38.0\n",
       "electric         38.0\n",
       "work             37.0\n",
       "technology       37.0\n",
       "nuclear          37.0\n",
       "social           36.0\n",
       "china            36.0\n",
       "low              36.0\n",
       "10               36.0\n",
       "associated       36.0\n",
       "risk             36.0\n",
       "light            35.0\n",
       "just             35.0\n",
       "2020             34.0\n",
       "earth            34.0\n",
       "disease          34.0\n",
       "long             34.0\n",
       "states           33.0\n",
       "times            33.0\n",
       "suggests         32.0\n",
       "better           32.0\n",
       "analysis         31.0\n",
       "black            31.0\n",
       "possible         31.0\n",
       "wind             30.0\n",
       "space            30.0\n",
       "green            30.0\n",
       "industry         30.0\n",
       "learning         29.0\n",
       "ice              29.0\n",
       "countries        28.0\n",
       "coronavirus      28.0\n",
       "artificial       28.0\n",
       "including        28.0\n",
       "species          28.0\n",
       "humans           28.0\n",
       "women            28.0\n",
       "food             27.0\n",
       "week             27.0\n",
       "intelligence     27.0\n",
       "news             27.0\n",
       "old              27.0\n",
       "robots           26.0\n",
       "cell             26.0\n",
       "evidence         26.0\n",
       "levels           26.0\n",
       "increased        26.0\n",
       "large            26.0\n",
       "data             26.0\n",
       "discovered       25.0\n",
       "infection        25.0\n",
       "planet           25.0\n",
       "self             25.0\n",
       "sea              25.0\n",
       "loss             24.0\n",
       "developed        24.0\n",
       "type             24.0\n",
       "generation       23.0\n",
       "production       23.0\n",
       "matter           23.0\n",
       "renewable        23.0\n",
       "way              23.0\n",
       "higher           23.0\n",
       "fossil           23.0\n",
       "effects          23.0\n",
       "virus            23.0\n",
       "increase         23.0\n",
       "lower            23.0\n",
       "produce          23.0\n",
       "adults           23.0\n",
       "treatment        22.0\n",
       "tech             22.0\n",
       "uk               22.0\n",
       "free             22.0\n",
       "potential        22.0\n",
       "memory           22.0\n",
       "mice             21.0\n",
       "robot            21.0\n",
       "changes          21.0\n",
       "development      21.0\n",
       "major            21.0\n",
       "team             21.0\n",
       "car              21.0\n",
       "similar          21.0\n",
       "powered          21.0\n",
       "create           21.0\n",
       "nasa             21.0\n",
       "100              21.0\n",
       "warming          20.0\n",
       "method           20.0\n",
       "united           20.0\n",
       "cancer           20.0\n",
       "project          20.0\n",
       "plant            20.0\n",
       "public           20.0\n",
       "says             20.0\n",
       "water            20.0\n",
       "coal             20.0\n",
       "findings         20.0\n",
       "clean            20.0\n",
       "material         19.0\n",
       "co2              19.0\n",
       "test             19.0\n",
       "age              19.0\n",
       "renewables       19.0\n",
       "cities           19.0\n",
       "different        19.0\n",
       "compared         19.0\n",
       "moon             19.0\n",
       "computer         19.0\n",
       "important        19.0\n",
       "largest          19.0\n",
       "fusion           19.0\n",
       "key              19.0\n",
       "men              19.0\n",
       "early            19.0\n",
       "body             19.0\n",
       "vehicles         19.0\n",
       "linked           19.0\n",
       "level            19.0\n",
       "3d               18.0\n",
       "build            18.0\n",
       "say              18.0\n",
       "30               18.0\n",
       "real             18.0\n",
       "immune           18.0\n",
       "approach         18.0\n",
       "big              18.0\n",
       "living           18.0\n",
       "surface          18.0\n",
       "electricity      18.0\n",
       "reveals          18.0\n",
       "working          18.0\n",
       "plastic          18.0\n",
       "single           18.0\n",
       "faster           18.0\n",
       "heat             18.0\n",
       "cost             18.0\n",
       "air              18.0\n",
       "related          18.0\n",
       "gene             18.0\n",
       "control          18.0\n",
       "natural          18.0\n",
       "nature           18.0\n",
       "specific         18.0\n",
       "performance      18.0\n",
       "percent          18.0\n",
       "half             17.0\n",
       "reality          17.0\n",
       "positive         17.0\n",
       "50               17.0\n",
       "dtype: float64"
      ]
     },
     "execution_count": 1120,
     "metadata": {},
     "output_type": "execute_result"
    }
   ],
   "source": [
    "df_doc_term_matrix['subreddit'] = df_doc_term_matrix['subreddit'].map({'science': 1, 'futurology': 0})\n",
    "\n",
    "df_doc_term_matrix.sum().sort_values(ascending = False)[:200]"
   ]
  },
  {
   "cell_type": "code",
   "execution_count": null,
   "metadata": {},
   "outputs": [],
   "source": []
  },
  {
   "cell_type": "code",
   "execution_count": null,
   "metadata": {},
   "outputs": [],
   "source": []
  },
  {
   "cell_type": "code",
   "execution_count": null,
   "metadata": {},
   "outputs": [],
   "source": []
  },
  {
   "cell_type": "code",
   "execution_count": null,
   "metadata": {},
   "outputs": [],
   "source": []
  },
  {
   "cell_type": "code",
   "execution_count": 1121,
   "metadata": {},
   "outputs": [
    {
     "data": {
      "text/markdown": [
       "**Size of feature matrix:**"
      ],
      "text/plain": [
       "<IPython.core.display.Markdown object>"
      ]
     },
     "metadata": {},
     "output_type": "display_data"
    },
    {
     "data": {
      "text/plain": [
       "(1800, 7577)"
      ]
     },
     "metadata": {},
     "output_type": "display_data"
    },
    {
     "data": {
      "text/markdown": [
       "**Count of tokens:** 7577"
      ],
      "text/plain": [
       "<IPython.core.display.Markdown object>"
      ]
     },
     "metadata": {},
     "output_type": "display_data"
    },
    {
     "data": {
      "text/markdown": [
       "**Have a look at random slices of our tokens:**"
      ],
      "text/plain": [
       "<IPython.core.display.Markdown object>"
      ]
     },
     "metadata": {},
     "output_type": "display_data"
    },
    {
     "name": "stdout",
     "output_type": "stream",
     "text": [
      "\n",
      " ['000', '01', '012', '026', '061', '083', '10', '100', '1000', '1000x', '100m', '1010g', '1062', '107', '10g', '10gw', '10th', '11', '113', '114']\n",
      "\n",
      " ['boost', 'boosted', 'boosting', 'boosts', 'boot', 'boots', 'borderline', 'bored', 'boris', 'born', 'boson', 'boss', 'bot', 'bots', 'bottle', 'bottles', 'boudinot', 'boundaries', 'bowel', 'box']\n",
      "\n",
      " ['developers', 'developing', 'development', 'developmental', 'develops', 'device', 'devices', 'devils', 'devise', 'dewi', 'diabetes', 'diabetics', 'diagnose', 'diagnosed', 'diagnoses', 'diagnosis', 'diagnostic', 'diamond', 'diamonds', 'dictators']\n",
      "\n",
      " ['geo', 'geobiologists', 'geoengineering', 'geographically', 'geologic', 'geological', 'geopolitics', 'geoscientist', 'geothermal', 'german', 'germans', 'germany', 'germinal', 'gesture', 'gets', 'getting', 'ghez', 'gi', 'giant', 'gibbons']\n",
      "\n",
      " ['linked', 'links', 'linoleic', 'lions', 'lip', 'lipase', 'lipogenesis', 'liquid', 'liquids', 'liquorice', 'lisa', 'list', 'listen', 'listening', 'listiani', 'literacy', 'literally', 'literature', 'lithium', 'lithosphere']\n",
      "\n",
      " ['pennsylvania', 'penrose', 'pension', 'pentagon', 'people', 'peppers', 'peptides', 'perak', 'perceive', 'perceived', 'perceiving', 'percent', 'perception', 'perceptions', 'percieves', 'perfect', 'perform', 'performance', 'performed', 'performing']\n",
      "\n",
      " ['sand', 'sandia', 'sapiens', 'sars', 'sat', 'satellite', 'satellites', 'satire', 'satisfaction', 'satisfied', 'saudi', 'savannah', 'save', 'saved', 'saves', 'saving', 'savings', 'saw', 'say', 'says']\n",
      "\n",
      " ['transhumanism', 'transistor', 'transistors', 'transition', 'transitions', 'translate', 'translation', 'transmission', 'transmit', 'transmitted', 'transmutation', 'transparency', 'transplant', 'transplantations', 'transplanted', 'transplanting', 'transplants', 'transport', 'transportation', 'trap']\n"
     ]
    }
   ],
   "source": [
    "# Instantiate CountVectorizer \n",
    "cvec = CountVectorizer(stop_words = 'english')\n",
    "\n",
    "# Fit and transform the vectorizer on the corpus\n",
    "X = cvec.fit_transform(X)\n",
    "\n",
    "printmd('**Size of feature matrix:**')\n",
    "display(X.shape)\n",
    "\n",
    "printmd(f'**Count of tokens:** {len(cvec.get_feature_names())}')\n",
    "\n",
    "printmd('**Have a look at random slices of our tokens:**')\n",
    "for i in np.arange(0, len(cvec.get_feature_names()), step = 1_000):\n",
    "    increment = 20\n",
    "    print('\\n', cvec.get_feature_names()[i: i + increment])"
   ]
  },
  {
   "cell_type": "code",
   "execution_count": 1122,
   "metadata": {
    "scrolled": true
   },
   "outputs": [
    {
     "data": {
      "image/png": "[encoded data removed]",
      "text/plain": [
       "<Figure size 432x288 with 1 Axes>"
      ]
     },
     "metadata": {
      "needs_background": "light"
     },
     "output_type": "display_data"
    }
   ],
   "source": [
    "# Convert training data to dataframe\n",
    "X = pd.DataFrame(X.todense(), columns = cvec.get_feature_names())\n",
    "\n",
    "# Plot top occurring words\n",
    "X.sum().sort_values(ascending = False).head(10)[::-1].plot(kind = 'barh')\n",
    "\n",
    "plt.title('Most frequently used words in Science & Futurology subreddits')\n",
    "plt.xlabel('Count of times used');"
   ]
  },
  {
   "cell_type": "markdown",
   "metadata": {},
   "source": [
    "<br>"
   ]
  },
  {
   "cell_type": "code",
   "execution_count": null,
   "metadata": {},
   "outputs": [],
   "source": []
  },
  {
   "cell_type": "code",
   "execution_count": null,
   "metadata": {},
   "outputs": [],
   "source": []
  },
  {
   "cell_type": "code",
   "execution_count": null,
   "metadata": {},
   "outputs": [],
   "source": []
  }
 ],
 "metadata": {
  "kernelspec": {
   "display_name": "Python 3",
   "language": "python",
   "name": "python3"
  },
  "language_info": {
   "codemirror_mode": {
    "name": "ipython",
    "version": 3
   },
   "file_extension": ".py",
   "mimetype": "text/x-python",
   "name": "python",
   "nbconvert_exporter": "python",
   "pygments_lexer": "ipython3",
   "version": "3.8.3"
  }
 },
 "nbformat": 4,
 "nbformat_minor": 4
}
