{
 "cells": [
  {
   "cell_type": "markdown",
   "metadata": {},
   "source": [
    "### Project 3\n",
    "\n",
    "### Classification Modeling on Subreddits: Futurists / Scientists"
   ]
  },
  {
   "cell_type": "markdown",
   "metadata": {},
   "source": [
    "#### Libary imports"
   ]
  },
  {
   "cell_type": "code",
   "execution_count": 72,
   "metadata": {},
   "outputs": [],
   "source": [
    "import os\n",
    "import pandas as pd\n",
    "import numpy as np\n",
    "import matplotlib.pyplot as plt\n",
    "import seaborn as sns\n",
    "import missingno as msno\n",
    "\n",
    "from sklearn.linear_model import LinearRegression, LassoCV, RidgeCV, LogisticRegression\n",
    "from sklearn.model_selection import train_test_split, cross_val_score, GridSearchCV\n",
    "from sklearn.preprocessing import StandardScaler, PolynomialFeatures\n",
    "from sklearn.neighbors import KNeighborsClassifier\n",
    "from sklearn.pipeline import Pipeline\n",
    "from sklearn import metrics\n",
    "import statsmodels.api as sm\n",
    "from sklearn.metrics import confusion_matrix, classification_report, accuracy_score\n",
    "\n",
    "\n",
    "import warnings; warnings.simplefilter('ignore')\n",
    "##this will hide deprecation/future warnings\n",
    "\n",
    "from IPython.display import Markdown, display\n",
    "pd.set_option('display.max_row', 200) # Set ipython's max row display\n",
    "pd.set_option('display.max_columns', 85) # Set iPython's max column count\n",
    "pd.set_option('display.max_colwidth', 1_000) # Set iPython's max column width\n",
    "\n",
    "# pseudo-markdown in code cells\n",
    "def printmd(string):\n",
    "    display(Markdown(string))\n",
    "# ref: https://discuss.analyticsvidhya.com/t/how-to-make-a-text-bold-within-print-statement-in-ipython-notebook/14552/2"
   ]
  },
  {
   "cell_type": "markdown",
   "metadata": {},
   "source": [
    "#### Data collection"
   ]
  },
  {
   "cell_type": "markdown",
   "metadata": {},
   "source": [
    "I utilized the Python Reddit API Wrapper (PRAW) API in the data collection process. You can find the steps I took in the `PRAW_data_collection` notebook, located in the code folder of this repository.\n",
    "\n",
    "The East Coast local instructors were very generous with their walkthrough of the process, so I definitely credit them for the ease of the data collection."
   ]
  },
  {
   "cell_type": "markdown",
   "metadata": {},
   "source": [
    "#### Preprocessing and EDA"
   ]
  },
  {
   "cell_type": "code",
   "execution_count": 31,
   "metadata": {
    "scrolled": true
   },
   "outputs": [
    {
     "data": {
      "text/plain": [
       "None"
      ]
     },
     "metadata": {},
     "output_type": "display_data"
    },
    {
     "data": {
      "text/html": [
       "<div>\n",
       "<style scoped>\n",
       "    .dataframe tbody tr th:only-of-type {\n",
       "        vertical-align: middle;\n",
       "    }\n",
       "\n",
       "    .dataframe tbody tr th {\n",
       "        vertical-align: top;\n",
       "    }\n",
       "\n",
       "    .dataframe thead th {\n",
       "        text-align: right;\n",
       "    }\n",
       "</style>\n",
       "<table border=\"1\" class=\"dataframe\">\n",
       "  <thead>\n",
       "    <tr style=\"text-align: right;\">\n",
       "      <th></th>\n",
       "      <th>title</th>\n",
       "      <th>score</th>\n",
       "      <th>url</th>\n",
       "      <th>comms_num</th>\n",
       "      <th>created</th>\n",
       "      <th>body</th>\n",
       "      <th>subreddit</th>\n",
       "    </tr>\n",
       "    <tr>\n",
       "      <th>id</th>\n",
       "      <th></th>\n",
       "      <th></th>\n",
       "      <th></th>\n",
       "      <th></th>\n",
       "      <th></th>\n",
       "      <th></th>\n",
       "      <th></th>\n",
       "    </tr>\n",
       "  </thead>\n",
       "  <tbody>\n",
       "    <tr>\n",
       "      <th>japxs3</th>\n",
       "      <td>What would the point be to do anything if AI c...</td>\n",
       "      <td>0</td>\n",
       "      <td>https://www.reddit.com/r/Futurology/comments/j...</td>\n",
       "      <td>4</td>\n",
       "      <td>1.602664e+09</td>\n",
       "      <td>The more I look into AI and new projects like ...</td>\n",
       "      <td>futurology</td>\n",
       "    </tr>\n",
       "    <tr>\n",
       "      <th>japq75</th>\n",
       "      <td>ELCC Explained: the Critical Renewable Energy ...</td>\n",
       "      <td>4</td>\n",
       "      <td>https://blog.ucsusa.org/mark-specht/elcc-expla...</td>\n",
       "      <td>0</td>\n",
       "      <td>1.602663e+09</td>\n",
       "      <td>NaN</td>\n",
       "      <td>futurology</td>\n",
       "    </tr>\n",
       "    <tr>\n",
       "      <th>jaojnb</th>\n",
       "      <td>There's a 50-50 chance we're living in a simul...</td>\n",
       "      <td>8</td>\n",
       "      <td>https://boingboing.net/2020/10/13/new-research...</td>\n",
       "      <td>4</td>\n",
       "      <td>1.602659e+09</td>\n",
       "      <td>NaN</td>\n",
       "      <td>futurology</td>\n",
       "    </tr>\n",
       "    <tr>\n",
       "      <th>jaofpy</th>\n",
       "      <td>Eight nations sign NASA's Artemis Accords, ple...</td>\n",
       "      <td>3</td>\n",
       "      <td>https://www.engadget.com/nasa-artemis-accords-...</td>\n",
       "      <td>1</td>\n",
       "      <td>1.602658e+09</td>\n",
       "      <td>NaN</td>\n",
       "      <td>futurology</td>\n",
       "    </tr>\n",
       "    <tr>\n",
       "      <th>jaocqq</th>\n",
       "      <td>Mercedes benz AVTR - In Action</td>\n",
       "      <td>8</td>\n",
       "      <td>https://www.youtube.com/watch?v=ChqM3zqTREQ&amp;ab...</td>\n",
       "      <td>0</td>\n",
       "      <td>1.602658e+09</td>\n",
       "      <td>NaN</td>\n",
       "      <td>futurology</td>\n",
       "    </tr>\n",
       "  </tbody>\n",
       "</table>\n",
       "</div>"
      ],
      "text/plain": [
       "                                                    title  score  \\\n",
       "id                                                                 \n",
       "japxs3  What would the point be to do anything if AI c...      0   \n",
       "japq75  ELCC Explained: the Critical Renewable Energy ...      4   \n",
       "jaojnb  There's a 50-50 chance we're living in a simul...      8   \n",
       "jaofpy  Eight nations sign NASA's Artemis Accords, ple...      3   \n",
       "jaocqq                     Mercedes benz AVTR - In Action      8   \n",
       "\n",
       "                                                      url  comms_num  \\\n",
       "id                                                                     \n",
       "japxs3  https://www.reddit.com/r/Futurology/comments/j...          4   \n",
       "japq75  https://blog.ucsusa.org/mark-specht/elcc-expla...          0   \n",
       "jaojnb  https://boingboing.net/2020/10/13/new-research...          4   \n",
       "jaofpy  https://www.engadget.com/nasa-artemis-accords-...          1   \n",
       "jaocqq  https://www.youtube.com/watch?v=ChqM3zqTREQ&ab...          0   \n",
       "\n",
       "             created                                               body  \\\n",
       "id                                                                        \n",
       "japxs3  1.602664e+09  The more I look into AI and new projects like ...   \n",
       "japq75  1.602663e+09                                                NaN   \n",
       "jaojnb  1.602659e+09                                                NaN   \n",
       "jaofpy  1.602658e+09                                                NaN   \n",
       "jaocqq  1.602658e+09                                                NaN   \n",
       "\n",
       "         subreddit  \n",
       "id                  \n",
       "japxs3  futurology  \n",
       "japq75  futurology  \n",
       "jaojnb  futurology  \n",
       "jaofpy  futurology  \n",
       "jaocqq  futurology  "
      ]
     },
     "metadata": {},
     "output_type": "display_data"
    }
   ],
   "source": [
    "subred1 = pd.read_csv('../data/df_with_both_subs.csv', index_col = 'id')\n",
    "subred1 = subred1.drop(columns = 'Unnamed: 0')\n",
    "display(pd.set_option('display.max_colwidth', 50), subred1.head())"
   ]
  },
  {
   "cell_type": "markdown",
   "metadata": {},
   "source": [
    "---"
   ]
  },
  {
   "cell_type": "code",
   "execution_count": 24,
   "metadata": {
    "scrolled": false
   },
   "outputs": [
    {
     "data": {
      "text/markdown": [
       "**Value counts:**"
      ],
      "text/plain": [
       "<IPython.core.display.Markdown object>"
      ]
     },
     "metadata": {},
     "output_type": "display_data"
    },
    {
     "data": {
      "text/plain": [
       "science       931\n",
       "futurology    869\n",
       "Name: subreddit, dtype: int64"
      ]
     },
     "metadata": {},
     "output_type": "display_data"
    },
    {
     "data": {
      "text/markdown": [
       "**Value counts by weight:**"
      ],
      "text/plain": [
       "<IPython.core.display.Markdown object>"
      ]
     },
     "metadata": {},
     "output_type": "display_data"
    },
    {
     "data": {
      "text/plain": [
       "science       0.517222\n",
       "futurology    0.482778\n",
       "Name: subreddit, dtype: float64"
      ]
     },
     "execution_count": 24,
     "metadata": {},
     "output_type": "execute_result"
    }
   ],
   "source": [
    "printmd('**Value counts:**')\n",
    "display(subred1['subreddit'].value_counts())\n",
    "\n",
    "printmd('**Value counts by weight:**')\n",
    "subred1['subreddit'].value_counts(normalize = True)"
   ]
  },
  {
   "cell_type": "markdown",
   "metadata": {},
   "source": [
    "* I may want to return to the subreddits to get a bigger dataset to work with. \n",
    "\n",
    "* The classes are slightly unbalanced, so that will be a consideration during the preprocessing / get-more-data phase."
   ]
  },
  {
   "cell_type": "code",
   "execution_count": 33,
   "metadata": {},
   "outputs": [
    {
     "data": {
      "text/html": [
       "<div>\n",
       "<style scoped>\n",
       "    .dataframe tbody tr th:only-of-type {\n",
       "        vertical-align: middle;\n",
       "    }\n",
       "\n",
       "    .dataframe tbody tr th {\n",
       "        vertical-align: top;\n",
       "    }\n",
       "\n",
       "    .dataframe thead th {\n",
       "        text-align: right;\n",
       "    }\n",
       "</style>\n",
       "<table border=\"1\" class=\"dataframe\">\n",
       "  <thead>\n",
       "    <tr style=\"text-align: right;\">\n",
       "      <th></th>\n",
       "      <th>title</th>\n",
       "      <th>subreddit</th>\n",
       "    </tr>\n",
       "    <tr>\n",
       "      <th>id</th>\n",
       "      <th></th>\n",
       "      <th></th>\n",
       "    </tr>\n",
       "  </thead>\n",
       "  <tbody>\n",
       "    <tr>\n",
       "      <th>japxs3</th>\n",
       "      <td>What would the point be to do anything if AI c...</td>\n",
       "      <td>futurology</td>\n",
       "    </tr>\n",
       "    <tr>\n",
       "      <th>japq75</th>\n",
       "      <td>ELCC Explained: the Critical Renewable Energy ...</td>\n",
       "      <td>futurology</td>\n",
       "    </tr>\n",
       "    <tr>\n",
       "      <th>jaojnb</th>\n",
       "      <td>There's a 50-50 chance we're living in a simul...</td>\n",
       "      <td>futurology</td>\n",
       "    </tr>\n",
       "    <tr>\n",
       "      <th>jaofpy</th>\n",
       "      <td>Eight nations sign NASA's Artemis Accords, ple...</td>\n",
       "      <td>futurology</td>\n",
       "    </tr>\n",
       "    <tr>\n",
       "      <th>jaocqq</th>\n",
       "      <td>Mercedes benz AVTR - In Action</td>\n",
       "      <td>futurology</td>\n",
       "    </tr>\n",
       "    <tr>\n",
       "      <th>...</th>\n",
       "      <td>...</td>\n",
       "      <td>...</td>\n",
       "    </tr>\n",
       "    <tr>\n",
       "      <th>ir136p</th>\n",
       "      <td>Adults with positive SARS-CoV-2 test results w...</td>\n",
       "      <td>science</td>\n",
       "    </tr>\n",
       "    <tr>\n",
       "      <th>ir0vem</th>\n",
       "      <td>50% of Phosphorus Lost to Erosion</td>\n",
       "      <td>science</td>\n",
       "    </tr>\n",
       "    <tr>\n",
       "      <th>ir0pvm</th>\n",
       "      <td>Motivated Helplessness in the Context of the C...</td>\n",
       "      <td>science</td>\n",
       "    </tr>\n",
       "    <tr>\n",
       "      <th>iqzn0v</th>\n",
       "      <td>Political ideology may explain why despair spr...</td>\n",
       "      <td>science</td>\n",
       "    </tr>\n",
       "    <tr>\n",
       "      <th>iqysvn</th>\n",
       "      <td>Study finds middle-aged individuals — those bo...</td>\n",
       "      <td>science</td>\n",
       "    </tr>\n",
       "  </tbody>\n",
       "</table>\n",
       "<p>1800 rows × 2 columns</p>\n",
       "</div>"
      ],
      "text/plain": [
       "                                                    title   subreddit\n",
       "id                                                                   \n",
       "japxs3  What would the point be to do anything if AI c...  futurology\n",
       "japq75  ELCC Explained: the Critical Renewable Energy ...  futurology\n",
       "jaojnb  There's a 50-50 chance we're living in a simul...  futurology\n",
       "jaofpy  Eight nations sign NASA's Artemis Accords, ple...  futurology\n",
       "jaocqq                     Mercedes benz AVTR - In Action  futurology\n",
       "...                                                   ...         ...\n",
       "ir136p  Adults with positive SARS-CoV-2 test results w...     science\n",
       "ir0vem                  50% of Phosphorus Lost to Erosion     science\n",
       "ir0pvm  Motivated Helplessness in the Context of the C...     science\n",
       "iqzn0v  Political ideology may explain why despair spr...     science\n",
       "iqysvn  Study finds middle-aged individuals — those bo...     science\n",
       "\n",
       "[1800 rows x 2 columns]"
      ]
     },
     "execution_count": 33,
     "metadata": {},
     "output_type": "execute_result"
    }
   ],
   "source": [
    "subred1[['title', 'subreddit']]"
   ]
  },
  {
   "cell_type": "code",
   "execution_count": 97,
   "metadata": {},
   "outputs": [
    {
     "data": {
      "text/markdown": [
       "**Only 69 non-null `body` records.**"
      ],
      "text/plain": [
       "<IPython.core.display.Markdown object>"
      ]
     },
     "metadata": {},
     "output_type": "display_data"
    }
   ],
   "source": [
    "# Null body rows\n",
    "printmd(f\"**Only {len(subred1['body'][(subred1['body'].isnull()).astype(int) == 0])} non-null `body` records.**\")\n",
    "\n",
    "non_null_body = subred1[['body', 'subreddit']][(subred1['body'].isnull()).astype(int) == 0]"
   ]
  },
  {
   "cell_type": "code",
   "execution_count": 95,
   "metadata": {},
   "outputs": [
    {
     "data": {
      "text/plain": [
       "body         The more I look into AI and new projects like GPT-3, we humans suck. Sure GPT-3 isn't on the level as a human brain, but that doesn't mean gpt-4 or gpt-5 won't be.  I can already see the massive jobs loss as AI will offset more jobs than it will create. I'm just feeling a little existential crisis here\n",
       "subreddit                                                                                                                                                                                                                                                                                                         futurology\n",
       "Name: japxs3, dtype: object"
      ]
     },
     "metadata": {},
     "output_type": "display_data"
    },
    {
     "data": {
      "text/plain": [
       "body         As our dependence on computer technologies increases, will kids who were not allowed to use electronics (phones, computers, tablets) as toddlers become stunted because they wouldn't know how to use computers?\\n\\nWill computers be so ingrained in society that toddlers need to learn how to use them just as how they need to learn language?\\n\\nBy this metric, is it child abuse if you DON'T teach your kids how to use computers?\n",
       "subreddit                                                                                                                                                                                                                                                                                                                                                                                                                                    futurology\n",
       "Name: jamgnw, dtype: object"
      ]
     },
     "metadata": {},
     "output_type": "display_data"
    },
    {
     "data": {
      "text/plain": [
       "body         Please post all climate change news here unless the submission is an unique event that is a global headline across several trusted news sources.\n",
       "subreddit                                                                                                                                          futurology\n",
       "Name: jag7ht, dtype: object"
      ]
     },
     "metadata": {},
     "output_type": "display_data"
    },
    {
     "data": {
      "text/plain": [
       "body         Is there any effort by others to bring the other technologies such as, Molecular Manufacturing into reality?\n",
       "subreddit                                                                                                      futurology\n",
       "Name: ja7ygc, dtype: object"
      ]
     },
     "metadata": {},
     "output_type": "display_data"
    },
    {
     "data": {
      "text/plain": [
       "body         Everyday we're learing more efficient ways to synthesize food. Eventually there's going to be a synthetic dietary movement similar to vegetarianism and veganism. Probably sooner rather than later. And it won't be restricted to meat, synthetic vegetables and fruit will be included.\\n\\nSo what would a term for people who only eat synthetic food be? Artificivore? Synthetivore? Synthetarian? \\n\\nPitch ideas bellow.\n",
       "subreddit                                                                                                                                                                                                                                                                                                                                                                                                                        futurology\n",
       "Name: ja5exx, dtype: object"
      ]
     },
     "metadata": {},
     "output_type": "display_data"
    },
    {
     "data": {
      "text/markdown": [
       "<br>"
      ],
      "text/plain": [
       "<IPython.core.display.Markdown object>"
      ]
     },
     "metadata": {},
     "output_type": "display_data"
    },
    {
     "name": "stdout",
     "output_type": "stream",
     "text": [
      "                                                                                                                                                                                                                                                                                                                                                                                                                                                                                                                                                                                                                                                                                                                                                                                                                                                                                                                                                                                                                                           body  \\\n",
      "id                                                                                                                                                                                                                                                                                                                                                                                                                                                                                                                                                                                                                                                                                                                                                                                                                                                                                                                                                                                                                                                \n",
      "izivy1                                                                                                                                                                                                                                                                                                                                                                                                                                                   To create the most imersive experiences in a vr experience the screen would have to curve around your face. \\nHow feasible would it be to create a screen using thousands of other miniscule screens /projections that are seperated from one another joined together to create the full picture, as if each small screen was a pixel. Having all these small screens be separated to one another would allow to morph the shape of the screen creating the perfect 3d environment. Fairly certain I don't have the brains to make this a reality but please someone make use of this.   \n",
      "j9s11j                                                          The Sveriges Riksbank Prize in Economic Sciences in Memory of Alfred Nobel 2020 was awarded jointly to [Paul R. Milgrom](https://en.wikipedia.org/wiki/Paul_Milgrom) and [Robert B. Wilson](https://en.wikipedia.org/wiki/Robert_B._Wilson) **\"for improvements to auction theory and inventions of new auction formats.\"**\\n\\n* [Official Press Release](https://www.nobelprize.org/prizes/economic-sciences/2020/press-release/)\\n* [Scientific Explanation of the Award](https://www.nobelprize.org/prizes/economic-sciences/2020/advanced-information/)\\n* [Video of the Prize Announcement](https://youtu.be/XIl-OBg1jmg)\\n\\n>This year’s Laureates, Paul Milgrom and Robert Wilson, have studied how auctions work. They have also used their insights to design new auction formats for goods and services that are difficult to sell in a traditional way, such as radio frequencies. Their discoveries have benefitted sellers, buyers and taxpayers around the world.   \n",
      "j6qfra                                   The Nobel Prize in Chemistry 2020 was awarded jointly to [Emmanuelle Charpentier](https://en.wikipedia.org/wiki/Emmanuelle_Charpentier) and [Jennifer A. Doudna](https://en.wikipedia.org/wiki/Jennifer_Doudna) **\"for the development of a method for genome editing.\"**\\n\\n* [Official Press Release](https://www.nobelprize.org/prizes/chemistry/2020/press-release/)\\n* [Scientific Explanation of the Award](https://www.nobelprize.org/prizes/chemistry/2020/advanced-information/)\\n* [Video of the Prize Announcement](https://youtu.be/e8OX5lNAMO4)\\n\\n>Emmanuelle Charpentier and Jennifer A. Doudna have discovered one of gene technology’s sharpest tools: the CRISPR/Cas9 genetic scissors. Using these, researchers can change the DNA of animals, plants and microorganisms with extremely high precision. This technology has had a revolutionary impact on the life sciences, is contributing to new cancer therapies and may make the dream of curing inherited diseases come true.   \n",
      "j64fiy  The Nobel Prize in Physics 2020 was divided, one half awarded to [Roger Penrose](https://en.wikipedia.org/wiki/Roger_Penrose) **\"for the discovery that black hole formation is a robust prediction of the general theory of relativity\"**, the other half jointly to [Reinhard Genzel](https://en.wikipedia.org/wiki/Reinhard_Genzel) and [Andrea Ghez](https://en.wikipedia.org/wiki/Andrea_M._Ghez) **\"for the discovery of a supermassive compact object at the centre of our galaxy.\"**\\n\\n* [Official Press Release](https://www.nobelprize.org/prizes/physics/2020/press-release/)\\n* [Scientific Explanation of the Award](https://www.nobelprize.org/prizes/physics/2020/advanced-information/)\\n* [Video of the Prize Announcement](https://youtu.be/5JFKNDVmx6k)\\n\\n>Three Laureates share this year’s Nobel Prize in Physics for their discoveries about one of the most exotic phenomena in the universe, the black hole. Roger Penrose showed that the general theory of relativity leads to the formation of black ho...   \n",
      "j5jyd0  The Nobel Prize in Physiology or Medicine 2020 was awarded jointly to [Harvey J. Alter](https://en.wikipedia.org/wiki/Harvey_J._Alter), [Michael Houghton](https://en.wikipedia.org/wiki/Michael_Houghton_(virologist)), and [Charles M. Rice](https://en.wikipedia.org/wiki/Charles_M._Rice) \"**for the discovery of Hepatitis C virus**.\"\\n\\n* [Official Press Release](https://www.nobelprize.org/prizes/medicine/2020/press-release/)\\n* [Scientific Explanation of the Award](https://www.nobelprize.org/prizes/medicine/2020/advanced-information/)\\n* [Video of the Prize Announcement](https://youtu.be/BTu6uOWLKR4)\\n\\n>This year's Nobel Prize is awarded to three scientists who have made a decisive contribution to the fight against blood-borne hepatitis, a major global health problem that causes cirrhosis and liver cancer in people around the world.  \\n>  \\n>Harvey J. Alter, Michael Houghton and Charles M. Rice made seminal discoveries that led to the identification of a novel virus, Hepatitis C viru...   \n",
      "\n",
      "         subreddit  \n",
      "id                  \n",
      "izivy1  futurology  \n",
      "j9s11j     science  \n",
      "j6qfra     science  \n",
      "j64fiy     science  \n",
      "j5jyd0     science  \n"
     ]
    }
   ],
   "source": [
    "# Check out the non-null body text\n",
    "\n",
    "for i in range(5):\n",
    "    display(non_null_body.iloc[i, :])\n",
    "\n",
    "printmd('<br>')\n",
    "\n",
    "print(non_null_body[-5:])\n"
   ]
  },
  {
   "cell_type": "code",
   "execution_count": 98,
   "metadata": {},
   "outputs": [
    {
     "data": {
      "text/markdown": [
       "**Can we get enough content from post titles?**"
      ],
      "text/plain": [
       "<IPython.core.display.Markdown object>"
      ]
     },
     "metadata": {},
     "output_type": "display_data"
    }
   ],
   "source": [
    "printmd('**Can we get enough content from post titles?**')"
   ]
  },
  {
   "cell_type": "code",
   "execution_count": null,
   "metadata": {},
   "outputs": [],
   "source": []
  }
 ],
 "metadata": {
  "kernelspec": {
   "display_name": "Python 3",
   "language": "python",
   "name": "python3"
  },
  "language_info": {
   "codemirror_mode": {
    "name": "ipython",
    "version": 3
   },
   "file_extension": ".py",
   "mimetype": "text/x-python",
   "name": "python",
   "nbconvert_exporter": "python",
   "pygments_lexer": "ipython3",
   "version": "3.8.3"
  }
 },
 "nbformat": 4,
 "nbformat_minor": 4
}
